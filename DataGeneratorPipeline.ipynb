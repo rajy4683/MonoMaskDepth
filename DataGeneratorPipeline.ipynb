{
  "nbformat": 4,
  "nbformat_minor": 0,
  "metadata": {
    "colab": {
      "name": "DataGeneratorPipeline.ipynb",
      "provenance": [],
      "collapsed_sections": [],
      "include_colab_link": true
    },
    "kernelspec": {
      "name": "python3",
      "display_name": "Python 3"
    },
    "accelerator": "GPU"
  },
  "cells": [
    {
      "cell_type": "markdown",
      "metadata": {
        "id": "view-in-github",
        "colab_type": "text"
      },
      "source": [
        "<a href=\"https://colab.research.google.com/github/rajy4683/MonoMaskDepth/blob/master/DataGeneratorPipeline.ipynb\" target=\"_parent\"><img src=\"https://colab.research.google.com/assets/colab-badge.svg\" alt=\"Open In Colab\"/></a>"
      ]
    },
    {
      "cell_type": "code",
      "metadata": {
        "id": "kSuQTF6LZ-EW",
        "colab_type": "code",
        "outputId": "b714de6b-68ef-4b20-ae66-1cfff1568da2",
        "colab": {
          "base_uri": "https://localhost:8080/",
          "height": 302
        }
      },
      "source": [
        "!nvidia-smi"
      ],
      "execution_count": 1,
      "outputs": [
        {
          "output_type": "stream",
          "text": [
            "Sun May 10 16:36:01 2020       \n",
            "+-----------------------------------------------------------------------------+\n",
            "| NVIDIA-SMI 440.82       Driver Version: 418.67       CUDA Version: 10.1     |\n",
            "|-------------------------------+----------------------+----------------------+\n",
            "| GPU  Name        Persistence-M| Bus-Id        Disp.A | Volatile Uncorr. ECC |\n",
            "| Fan  Temp  Perf  Pwr:Usage/Cap|         Memory-Usage | GPU-Util  Compute M. |\n",
            "|===============================+======================+======================|\n",
            "|   0  Tesla P4            Off  | 00000000:00:04.0 Off |                    0 |\n",
            "| N/A   35C    P8     7W /  75W |      0MiB /  7611MiB |      0%      Default |\n",
            "+-------------------------------+----------------------+----------------------+\n",
            "                                                                               \n",
            "+-----------------------------------------------------------------------------+\n",
            "| Processes:                                                       GPU Memory |\n",
            "|  GPU       PID   Type   Process name                             Usage      |\n",
            "|=============================================================================|\n",
            "|  No running processes found                                                 |\n",
            "+-----------------------------------------------------------------------------+\n"
          ],
          "name": "stdout"
        }
      ]
    },
    {
      "cell_type": "code",
      "metadata": {
        "id": "TkeUIDcSJXUE",
        "colab_type": "code",
        "outputId": "0452a959-f0e1-4f33-b197-a12e10eef574",
        "colab": {
          "base_uri": "https://localhost:8080/",
          "height": 34
        }
      },
      "source": [
        "from google.colab import drive\n",
        "drive.mount('/content/drive', force_remount=True)\n",
        "\n",
        "import sys"
      ],
      "execution_count": 5,
      "outputs": [
        {
          "output_type": "stream",
          "text": [
            "Mounted at /content/drive\n"
          ],
          "name": "stdout"
        }
      ]
    },
    {
      "cell_type": "code",
      "metadata": {
        "id": "LE5zPYdhNH9D",
        "colab_type": "code",
        "outputId": "9caff07f-a759-4160-8085-261d37562dd8",
        "colab": {
          "base_uri": "https://localhost:8080/",
          "height": 34
        }
      },
      "source": [
        "!pwd"
      ],
      "execution_count": 0,
      "outputs": [
        {
          "output_type": "stream",
          "text": [
            "/content\n"
          ],
          "name": "stdout"
        }
      ]
    },
    {
      "cell_type": "code",
      "metadata": {
        "id": "0isJ7gXDCzsi",
        "colab_type": "code",
        "colab": {}
      },
      "source": [
        "!folder_list=(\"classroom\" \"college_outdoors\" \"corridors\" \"dining_room\" \"malls\" \"lobby\" \"meeting_rooms\" \"people_cropresize\"); for folder_name in ${folder_list[@]}; do mkdir -p /content/S15EVA4/$folder_name /content/S15EVA4/$folder_name/aug_images; cp -Rf /content/drive/My\\ Drive/EVA4/tsai/S15EVA4/$folder_name/*png /content/S15EVA4/$folder_name; done"
      ],
      "execution_count": 0,
      "outputs": []
    },
    {
      "cell_type": "code",
      "metadata": {
        "id": "JSO8nX2xt3NR",
        "colab_type": "code",
        "colab": {}
      },
      "source": [
        "sys.path.append('/content/drive/My Drive/EVA4/RekogNizer')\n",
        "sys.path.append('/content/drive/My Drive/EVA4')\n",
        "sys.path.append('/content/drive/My Drive/EVA4/DenseDepth')"
      ],
      "execution_count": 0,
      "outputs": []
    },
    {
      "cell_type": "markdown",
      "metadata": {
        "id": "p5sd4efFT2AF",
        "colab_type": "text"
      },
      "source": [
        "### Dependencies\n"
      ]
    },
    {
      "cell_type": "code",
      "metadata": {
        "id": "M5CIVlNHJeJI",
        "colab_type": "code",
        "outputId": "46db4040-9acc-45ae-e595-0ed2935ed62d",
        "colab": {
          "base_uri": "https://localhost:8080/",
          "height": 1000
        }
      },
      "source": [
        "!pip install -r /content/drive/My\\ Drive/EVA4/RekogNizer/requirements.txt"
      ],
      "execution_count": 3,
      "outputs": [
        {
          "output_type": "stream",
          "text": [
            "Collecting pytorch-ignite\n",
            "\u001b[?25l  Downloading https://files.pythonhosted.org/packages/35/55/41e8a995876fd2ade29bdba0c3efefa38e7d605cb353c70f3173c04928b5/pytorch_ignite-0.3.0-py2.py3-none-any.whl (103kB)\n",
            "\r\u001b[K     |███▏                            | 10kB 26.5MB/s eta 0:00:01\r\u001b[K     |██████▎                         | 20kB 33.5MB/s eta 0:00:01\r\u001b[K     |█████████▌                      | 30kB 36.9MB/s eta 0:00:01\r\u001b[K     |████████████▋                   | 40kB 39.7MB/s eta 0:00:01\r\u001b[K     |███████████████▉                | 51kB 40.5MB/s eta 0:00:01\r\u001b[K     |███████████████████             | 61kB 42.4MB/s eta 0:00:01\r\u001b[K     |██████████████████████▏         | 71kB 43.1MB/s eta 0:00:01\r\u001b[K     |█████████████████████████▎      | 81kB 43.3MB/s eta 0:00:01\r\u001b[K     |████████████████████████████▍   | 92kB 44.7MB/s eta 0:00:01\r\u001b[K     |███████████████████████████████▋| 102kB 46.1MB/s eta 0:00:01\r\u001b[K     |████████████████████████████████| 112kB 46.1MB/s \n",
            "\u001b[?25hRequirement already satisfied: torchsummary in /usr/local/lib/python3.6/dist-packages (from -r /content/drive/My Drive/EVA4/RekogNizer/requirements.txt (line 2)) (1.5.1)\n",
            "Collecting wandb\n",
            "\u001b[?25l  Downloading https://files.pythonhosted.org/packages/2d/c9/ebbcefa6ef2ba14a7c62a4ee4415a5fecef8fac5e4d1b4e22af26fd9fe22/wandb-0.8.35-py2.py3-none-any.whl (1.4MB)\n",
            "\u001b[K     |████████████████████████████████| 1.4MB 44.9MB/s \n",
            "\u001b[?25hRequirement already satisfied: numpy in /usr/local/lib/python3.6/dist-packages (from -r /content/drive/My Drive/EVA4/RekogNizer/requirements.txt (line 5)) (1.18.4)\n",
            "Requirement already satisfied: torch in /usr/local/lib/python3.6/dist-packages (from -r /content/drive/My Drive/EVA4/RekogNizer/requirements.txt (line 6)) (1.5.0+cu101)\n",
            "Requirement already satisfied: torchvision in /usr/local/lib/python3.6/dist-packages (from -r /content/drive/My Drive/EVA4/RekogNizer/requirements.txt (line 7)) (0.6.0+cu101)\n",
            "Requirement already satisfied: matplotlib in /usr/local/lib/python3.6/dist-packages (from -r /content/drive/My Drive/EVA4/RekogNizer/requirements.txt (line 8)) (3.2.1)\n",
            "Requirement already satisfied: albumentations in /usr/local/lib/python3.6/dist-packages (from -r /content/drive/My Drive/EVA4/RekogNizer/requirements.txt (line 9)) (0.1.12)\n",
            "Requirement already satisfied: python-dateutil>=2.6.1 in /usr/local/lib/python3.6/dist-packages (from wandb->-r /content/drive/My Drive/EVA4/RekogNizer/requirements.txt (line 3)) (2.8.1)\n",
            "Requirement already satisfied: Click>=7.0 in /usr/local/lib/python3.6/dist-packages (from wandb->-r /content/drive/My Drive/EVA4/RekogNizer/requirements.txt (line 3)) (7.1.2)\n",
            "Collecting gql==0.2.0\n",
            "  Downloading https://files.pythonhosted.org/packages/c4/6f/cf9a3056045518f06184e804bae89390eb706168349daa9dff8ac609962a/gql-0.2.0.tar.gz\n",
            "Collecting sentry-sdk>=0.4.0\n",
            "\u001b[?25l  Downloading https://files.pythonhosted.org/packages/20/7e/19545324e83db4522b885808cd913c3b93ecc0c88b03e037b78c6a417fa8/sentry_sdk-0.14.3-py2.py3-none-any.whl (103kB)\n",
            "\u001b[K     |████████████████████████████████| 112kB 51.9MB/s \n",
            "\u001b[?25hCollecting subprocess32>=3.5.3\n",
            "\u001b[?25l  Downloading https://files.pythonhosted.org/packages/32/c8/564be4d12629b912ea431f1a50eb8b3b9d00f1a0b1ceff17f266be190007/subprocess32-3.5.4.tar.gz (97kB)\n",
            "\u001b[K     |████████████████████████████████| 102kB 15.0MB/s \n",
            "\u001b[?25hCollecting configparser>=3.8.1\n",
            "  Downloading https://files.pythonhosted.org/packages/4b/6b/01baa293090240cf0562cc5eccb69c6f5006282127f2b846fad011305c79/configparser-5.0.0-py3-none-any.whl\n",
            "Collecting docker-pycreds>=0.4.0\n",
            "  Downloading https://files.pythonhosted.org/packages/f5/e8/f6bd1eee09314e7e6dee49cbe2c5e22314ccdb38db16c9fc72d2fa80d054/docker_pycreds-0.4.0-py2.py3-none-any.whl\n",
            "Requirement already satisfied: psutil>=5.0.0 in /usr/local/lib/python3.6/dist-packages (from wandb->-r /content/drive/My Drive/EVA4/RekogNizer/requirements.txt (line 3)) (5.4.8)\n",
            "Requirement already satisfied: six>=1.10.0 in /usr/local/lib/python3.6/dist-packages (from wandb->-r /content/drive/My Drive/EVA4/RekogNizer/requirements.txt (line 3)) (1.12.0)\n",
            "Requirement already satisfied: nvidia-ml-py3>=7.352.0 in /usr/local/lib/python3.6/dist-packages (from wandb->-r /content/drive/My Drive/EVA4/RekogNizer/requirements.txt (line 3)) (7.352.0)\n",
            "Collecting watchdog>=0.8.3\n",
            "\u001b[?25l  Downloading https://files.pythonhosted.org/packages/73/c3/ed6d992006837e011baca89476a4bbffb0a91602432f73bd4473816c76e2/watchdog-0.10.2.tar.gz (95kB)\n",
            "\u001b[K     |████████████████████████████████| 102kB 14.7MB/s \n",
            "\u001b[?25hCollecting shortuuid>=0.5.0\n",
            "  Downloading https://files.pythonhosted.org/packages/25/a6/2ecc1daa6a304e7f1b216f0896b26156b78e7c38e1211e9b798b4716c53d/shortuuid-1.0.1-py3-none-any.whl\n",
            "Requirement already satisfied: PyYAML>=3.10 in /usr/local/lib/python3.6/dist-packages (from wandb->-r /content/drive/My Drive/EVA4/RekogNizer/requirements.txt (line 3)) (3.13)\n",
            "Collecting GitPython>=1.0.0\n",
            "\u001b[?25l  Downloading https://files.pythonhosted.org/packages/44/33/917e6fde1cad13daa7053f39b7c8af3be287314f75f1b1ea8d3fe37a8571/GitPython-3.1.2-py3-none-any.whl (451kB)\n",
            "\u001b[K     |████████████████████████████████| 460kB 53.3MB/s \n",
            "\u001b[?25hRequirement already satisfied: requests>=2.0.0 in /usr/local/lib/python3.6/dist-packages (from wandb->-r /content/drive/My Drive/EVA4/RekogNizer/requirements.txt (line 3)) (2.23.0)\n",
            "Requirement already satisfied: future in /usr/local/lib/python3.6/dist-packages (from torch->-r /content/drive/My Drive/EVA4/RekogNizer/requirements.txt (line 6)) (0.16.0)\n",
            "Requirement already satisfied: pillow>=4.1.1 in /usr/local/lib/python3.6/dist-packages (from torchvision->-r /content/drive/My Drive/EVA4/RekogNizer/requirements.txt (line 7)) (7.0.0)\n",
            "Requirement already satisfied: pyparsing!=2.0.4,!=2.1.2,!=2.1.6,>=2.0.1 in /usr/local/lib/python3.6/dist-packages (from matplotlib->-r /content/drive/My Drive/EVA4/RekogNizer/requirements.txt (line 8)) (2.4.7)\n",
            "Requirement already satisfied: kiwisolver>=1.0.1 in /usr/local/lib/python3.6/dist-packages (from matplotlib->-r /content/drive/My Drive/EVA4/RekogNizer/requirements.txt (line 8)) (1.2.0)\n",
            "Requirement already satisfied: cycler>=0.10 in /usr/local/lib/python3.6/dist-packages (from matplotlib->-r /content/drive/My Drive/EVA4/RekogNizer/requirements.txt (line 8)) (0.10.0)\n",
            "Requirement already satisfied: opencv-python in /usr/local/lib/python3.6/dist-packages (from albumentations->-r /content/drive/My Drive/EVA4/RekogNizer/requirements.txt (line 9)) (4.1.2.30)\n",
            "Collecting imgaug<0.2.7,>=0.2.5\n",
            "\u001b[?25l  Downloading https://files.pythonhosted.org/packages/ad/2e/748dbb7bb52ec8667098bae9b585f448569ae520031932687761165419a2/imgaug-0.2.6.tar.gz (631kB)\n",
            "\u001b[K     |████████████████████████████████| 634kB 53.2MB/s \n",
            "\u001b[?25hRequirement already satisfied: scipy in /usr/local/lib/python3.6/dist-packages (from albumentations->-r /content/drive/My Drive/EVA4/RekogNizer/requirements.txt (line 9)) (1.4.1)\n",
            "Collecting graphql-core<2,>=0.5.0\n",
            "\u001b[?25l  Downloading https://files.pythonhosted.org/packages/b0/89/00ad5e07524d8c523b14d70c685e0299a8b0de6d0727e368c41b89b7ed0b/graphql-core-1.1.tar.gz (70kB)\n",
            "\u001b[K     |████████████████████████████████| 71kB 9.9MB/s \n",
            "\u001b[?25hRequirement already satisfied: promise<3,>=2.0 in /usr/local/lib/python3.6/dist-packages (from gql==0.2.0->wandb->-r /content/drive/My Drive/EVA4/RekogNizer/requirements.txt (line 3)) (2.3)\n",
            "Requirement already satisfied: certifi in /usr/local/lib/python3.6/dist-packages (from sentry-sdk>=0.4.0->wandb->-r /content/drive/My Drive/EVA4/RekogNizer/requirements.txt (line 3)) (2020.4.5.1)\n",
            "Requirement already satisfied: urllib3>=1.10.0 in /usr/local/lib/python3.6/dist-packages (from sentry-sdk>=0.4.0->wandb->-r /content/drive/My Drive/EVA4/RekogNizer/requirements.txt (line 3)) (1.24.3)\n",
            "Collecting pathtools>=0.1.1\n",
            "  Downloading https://files.pythonhosted.org/packages/e7/7f/470d6fcdf23f9f3518f6b0b76be9df16dcc8630ad409947f8be2eb0ed13a/pathtools-0.1.2.tar.gz\n",
            "Collecting gitdb<5,>=4.0.1\n",
            "\u001b[?25l  Downloading https://files.pythonhosted.org/packages/48/11/d1800bca0a3bae820b84b7d813ad1eff15a48a64caea9c823fc8c1b119e8/gitdb-4.0.5-py3-none-any.whl (63kB)\n",
            "\u001b[K     |████████████████████████████████| 71kB 11.3MB/s \n",
            "\u001b[?25hRequirement already satisfied: chardet<4,>=3.0.2 in /usr/local/lib/python3.6/dist-packages (from requests>=2.0.0->wandb->-r /content/drive/My Drive/EVA4/RekogNizer/requirements.txt (line 3)) (3.0.4)\n",
            "Requirement already satisfied: idna<3,>=2.5 in /usr/local/lib/python3.6/dist-packages (from requests>=2.0.0->wandb->-r /content/drive/My Drive/EVA4/RekogNizer/requirements.txt (line 3)) (2.9)\n",
            "Requirement already satisfied: scikit-image>=0.11.0 in /usr/local/lib/python3.6/dist-packages (from imgaug<0.2.7,>=0.2.5->albumentations->-r /content/drive/My Drive/EVA4/RekogNizer/requirements.txt (line 9)) (0.16.2)\n",
            "Collecting smmap<4,>=3.0.1\n",
            "  Downloading https://files.pythonhosted.org/packages/b0/9a/4d409a6234eb940e6a78dfdfc66156e7522262f5f2fecca07dc55915952d/smmap-3.0.4-py2.py3-none-any.whl\n",
            "Requirement already satisfied: PyWavelets>=0.4.0 in /usr/local/lib/python3.6/dist-packages (from scikit-image>=0.11.0->imgaug<0.2.7,>=0.2.5->albumentations->-r /content/drive/My Drive/EVA4/RekogNizer/requirements.txt (line 9)) (1.1.1)\n",
            "Requirement already satisfied: imageio>=2.3.0 in /usr/local/lib/python3.6/dist-packages (from scikit-image>=0.11.0->imgaug<0.2.7,>=0.2.5->albumentations->-r /content/drive/My Drive/EVA4/RekogNizer/requirements.txt (line 9)) (2.4.1)\n",
            "Requirement already satisfied: networkx>=2.0 in /usr/local/lib/python3.6/dist-packages (from scikit-image>=0.11.0->imgaug<0.2.7,>=0.2.5->albumentations->-r /content/drive/My Drive/EVA4/RekogNizer/requirements.txt (line 9)) (2.4)\n",
            "Requirement already satisfied: decorator>=4.3.0 in /usr/local/lib/python3.6/dist-packages (from networkx>=2.0->scikit-image>=0.11.0->imgaug<0.2.7,>=0.2.5->albumentations->-r /content/drive/My Drive/EVA4/RekogNizer/requirements.txt (line 9)) (4.4.2)\n",
            "Building wheels for collected packages: gql, subprocess32, watchdog, imgaug, graphql-core, pathtools\n",
            "  Building wheel for gql (setup.py) ... \u001b[?25l\u001b[?25hdone\n",
            "  Created wheel for gql: filename=gql-0.2.0-cp36-none-any.whl size=7630 sha256=a9decda73f40e2de1b29642aaaa3a564f8208d1386b50fdd39fa6154563c141f\n",
            "  Stored in directory: /root/.cache/pip/wheels/ce/0e/7b/58a8a5268655b3ad74feef5aa97946f0addafb3cbb6bd2da23\n",
            "  Building wheel for subprocess32 (setup.py) ... \u001b[?25l\u001b[?25hdone\n",
            "  Created wheel for subprocess32: filename=subprocess32-3.5.4-cp36-none-any.whl size=6489 sha256=eb7e7b1c21e653537d76450aa7663813d89f335f5d9bc6660318c2cce6ecde90\n",
            "  Stored in directory: /root/.cache/pip/wheels/68/39/1a/5e402bdfdf004af1786c8b853fd92f8c4a04f22aad179654d1\n",
            "  Building wheel for watchdog (setup.py) ... \u001b[?25l\u001b[?25hdone\n",
            "  Created wheel for watchdog: filename=watchdog-0.10.2-cp36-none-any.whl size=73605 sha256=ffc036dce4666525a014e481445e8bf1e4ec431c9be6e50bfaf91cef330380a8\n",
            "  Stored in directory: /root/.cache/pip/wheels/bc/ed/6c/028dea90d31b359cd2a7c8b0da4db80e41d24a59614154072e\n",
            "  Building wheel for imgaug (setup.py) ... \u001b[?25l\u001b[?25hdone\n",
            "  Created wheel for imgaug: filename=imgaug-0.2.6-cp36-none-any.whl size=654020 sha256=5031d5ae339c15355b7316b2661ad8142e3a1b0c83009a8b3994457a4286a6b6\n",
            "  Stored in directory: /root/.cache/pip/wheels/97/ec/48/0d25896c417b715af6236dbcef8f0bed136a1a5e52972fc6d0\n",
            "  Building wheel for graphql-core (setup.py) ... \u001b[?25l\u001b[?25hdone\n",
            "  Created wheel for graphql-core: filename=graphql_core-1.1-cp36-none-any.whl size=104650 sha256=e18e777acee43257e1c8f4941e3eac846fc2b96431b56c60d2cc464e8801c4a6\n",
            "  Stored in directory: /root/.cache/pip/wheels/45/99/d7/c424029bb0fe910c63b68dbf2aa20d3283d023042521bcd7d5\n",
            "  Building wheel for pathtools (setup.py) ... \u001b[?25l\u001b[?25hdone\n",
            "  Created wheel for pathtools: filename=pathtools-0.1.2-cp36-none-any.whl size=8784 sha256=ef798d4946eb497bc81d0c8e67e6bb6019baa48e750c6cb36dd8a264ec78b24a\n",
            "  Stored in directory: /root/.cache/pip/wheels/0b/04/79/c3b0c3a0266a3cb4376da31e5bfe8bba0c489246968a68e843\n",
            "Successfully built gql subprocess32 watchdog imgaug graphql-core pathtools\n",
            "Installing collected packages: pytorch-ignite, graphql-core, gql, sentry-sdk, subprocess32, configparser, docker-pycreds, pathtools, watchdog, shortuuid, smmap, gitdb, GitPython, wandb, imgaug\n",
            "  Found existing installation: imgaug 0.2.9\n",
            "    Uninstalling imgaug-0.2.9:\n",
            "      Successfully uninstalled imgaug-0.2.9\n",
            "Successfully installed GitPython-3.1.2 configparser-5.0.0 docker-pycreds-0.4.0 gitdb-4.0.5 gql-0.2.0 graphql-core-1.1 imgaug-0.2.6 pathtools-0.1.2 pytorch-ignite-0.3.0 sentry-sdk-0.14.3 shortuuid-1.0.1 smmap-3.0.4 subprocess32-3.5.4 wandb-0.8.35 watchdog-0.10.2\n"
          ],
          "name": "stdout"
        }
      ]
    },
    {
      "cell_type": "code",
      "metadata": {
        "id": "hfblgxgzgYN4",
        "colab_type": "code",
        "outputId": "3e75e198-3e71-4c66-e263-03cb4707855e",
        "colab": {
          "base_uri": "https://localhost:8080/",
          "height": 541
        }
      },
      "source": [
        "!pip install -U git+https://github.com/albu/albumentations"
      ],
      "execution_count": 4,
      "outputs": [
        {
          "output_type": "stream",
          "text": [
            "Collecting git+https://github.com/albu/albumentations\n",
            "  Cloning https://github.com/albu/albumentations to /tmp/pip-req-build-i8x4tm2p\n",
            "  Running command git clone -q https://github.com/albu/albumentations /tmp/pip-req-build-i8x4tm2p\n",
            "Requirement already satisfied, skipping upgrade: numpy>=1.11.1 in /usr/local/lib/python3.6/dist-packages (from albumentations==0.4.5) (1.18.4)\n",
            "Requirement already satisfied, skipping upgrade: scipy in /usr/local/lib/python3.6/dist-packages (from albumentations==0.4.5) (1.4.1)\n",
            "Requirement already satisfied, skipping upgrade: imgaug<0.2.7,>=0.2.5 in /usr/local/lib/python3.6/dist-packages (from albumentations==0.4.5) (0.2.6)\n",
            "Requirement already satisfied, skipping upgrade: PyYAML in /usr/local/lib/python3.6/dist-packages (from albumentations==0.4.5) (3.13)\n",
            "Requirement already satisfied, skipping upgrade: opencv-python>=4.1.1 in /usr/local/lib/python3.6/dist-packages (from albumentations==0.4.5) (4.1.2.30)\n",
            "Requirement already satisfied, skipping upgrade: scikit-image>=0.11.0 in /usr/local/lib/python3.6/dist-packages (from imgaug<0.2.7,>=0.2.5->albumentations==0.4.5) (0.16.2)\n",
            "Requirement already satisfied, skipping upgrade: six in /usr/local/lib/python3.6/dist-packages (from imgaug<0.2.7,>=0.2.5->albumentations==0.4.5) (1.12.0)\n",
            "Requirement already satisfied, skipping upgrade: imageio>=2.3.0 in /usr/local/lib/python3.6/dist-packages (from scikit-image>=0.11.0->imgaug<0.2.7,>=0.2.5->albumentations==0.4.5) (2.4.1)\n",
            "Requirement already satisfied, skipping upgrade: PyWavelets>=0.4.0 in /usr/local/lib/python3.6/dist-packages (from scikit-image>=0.11.0->imgaug<0.2.7,>=0.2.5->albumentations==0.4.5) (1.1.1)\n",
            "Requirement already satisfied, skipping upgrade: pillow>=4.3.0 in /usr/local/lib/python3.6/dist-packages (from scikit-image>=0.11.0->imgaug<0.2.7,>=0.2.5->albumentations==0.4.5) (7.0.0)\n",
            "Requirement already satisfied, skipping upgrade: matplotlib!=3.0.0,>=2.0.0 in /usr/local/lib/python3.6/dist-packages (from scikit-image>=0.11.0->imgaug<0.2.7,>=0.2.5->albumentations==0.4.5) (3.2.1)\n",
            "Requirement already satisfied, skipping upgrade: networkx>=2.0 in /usr/local/lib/python3.6/dist-packages (from scikit-image>=0.11.0->imgaug<0.2.7,>=0.2.5->albumentations==0.4.5) (2.4)\n",
            "Requirement already satisfied, skipping upgrade: python-dateutil>=2.1 in /usr/local/lib/python3.6/dist-packages (from matplotlib!=3.0.0,>=2.0.0->scikit-image>=0.11.0->imgaug<0.2.7,>=0.2.5->albumentations==0.4.5) (2.8.1)\n",
            "Requirement already satisfied, skipping upgrade: pyparsing!=2.0.4,!=2.1.2,!=2.1.6,>=2.0.1 in /usr/local/lib/python3.6/dist-packages (from matplotlib!=3.0.0,>=2.0.0->scikit-image>=0.11.0->imgaug<0.2.7,>=0.2.5->albumentations==0.4.5) (2.4.7)\n",
            "Requirement already satisfied, skipping upgrade: kiwisolver>=1.0.1 in /usr/local/lib/python3.6/dist-packages (from matplotlib!=3.0.0,>=2.0.0->scikit-image>=0.11.0->imgaug<0.2.7,>=0.2.5->albumentations==0.4.5) (1.2.0)\n",
            "Requirement already satisfied, skipping upgrade: cycler>=0.10 in /usr/local/lib/python3.6/dist-packages (from matplotlib!=3.0.0,>=2.0.0->scikit-image>=0.11.0->imgaug<0.2.7,>=0.2.5->albumentations==0.4.5) (0.10.0)\n",
            "Requirement already satisfied, skipping upgrade: decorator>=4.3.0 in /usr/local/lib/python3.6/dist-packages (from networkx>=2.0->scikit-image>=0.11.0->imgaug<0.2.7,>=0.2.5->albumentations==0.4.5) (4.4.2)\n",
            "Building wheels for collected packages: albumentations\n",
            "  Building wheel for albumentations (setup.py) ... \u001b[?25l\u001b[?25hdone\n",
            "  Created wheel for albumentations: filename=albumentations-0.4.5-cp36-none-any.whl size=65055 sha256=98440d8183354ea0039a55d30b9280293eaecce15d1fea7441eb93e7a8ca4faa\n",
            "  Stored in directory: /tmp/pip-ephem-wheel-cache-l63gemot/wheels/45/8b/e4/2837bbcf517d00732b8e394f8646f22b8723ac00993230188b\n",
            "Successfully built albumentations\n",
            "Installing collected packages: albumentations\n",
            "  Found existing installation: albumentations 0.1.12\n",
            "    Uninstalling albumentations-0.1.12:\n",
            "      Successfully uninstalled albumentations-0.1.12\n",
            "Successfully installed albumentations-0.4.5\n"
          ],
          "name": "stdout"
        }
      ]
    },
    {
      "cell_type": "code",
      "metadata": {
        "id": "sI3bimQe2u6I",
        "colab_type": "code",
        "colab": {
          "base_uri": "https://localhost:8080/",
          "height": 151
        },
        "outputId": "383d357a-0e34-4997-d8f2-0f0a900f765d"
      },
      "source": [
        "import os\n",
        "\n",
        "import numpy as np\n",
        "import cv2\n",
        "from matplotlib import pyplot as plt\n",
        "from skimage.color import label2rgb\n",
        "\n",
        "import albumentations as A\n",
        "import random\n",
        "from google.colab.patches import cv2_imshow\n",
        "from PIL import Image\n",
        "import glob\n",
        "from zipfile import ZipFile\n",
        "from RekogNizer.depthmodelutils import * ### Contains all the utils developed for transforms handling."
      ],
      "execution_count": 7,
      "outputs": [
        {
          "output_type": "stream",
          "text": [
            "/content/S15EVA4/classroom/*png\n",
            "/content/S15EVA4/college_outdoors/*png\n",
            "/content/S15EVA4/corridors/*png\n",
            "/content/S15EVA4/dining_room/*png\n",
            "/content/S15EVA4/lobby/*png\n",
            "/content/S15EVA4/malls/*png\n",
            "/content/S15EVA4/meeting_rooms/*png\n",
            "/content/S15EVA4/people_cropresize/*png\n"
          ],
          "name": "stdout"
        }
      ]
    },
    {
      "cell_type": "code",
      "metadata": {
        "id": "OxlfJ1AX3E6E",
        "colab_type": "code",
        "colab": {}
      },
      "source": [
        "def load_return_fgbg_lists():\n",
        "    base_dir = \"/content/S15EVA4/\"\n",
        "    file_format = \"*png\"\n",
        "    folder_list = [\"classroom\", \"college_outdoors\", \n",
        "                   \"corridors\", \"dining_room\",\n",
        "                   \"lobby\",\"malls\", \"meeting_rooms\",\n",
        "                   \"people_cropresize\"]\n",
        "    folder_dict = dict()\n",
        "    for folder_name in folder_list:\n",
        "        full_path = base_dir+folder_name+\"/\"+\"*png\"\n",
        "        print(full_path)\n",
        "        folder_dict[folder_name] = [ val for val in glob.glob(full_path)]\n",
        "    return folder_dict\n"
      ],
      "execution_count": 0,
      "outputs": []
    },
    {
      "cell_type": "code",
      "metadata": {
        "id": "ZFgJaitG4PNy",
        "colab_type": "code",
        "outputId": "3726ba2a-f482-41d7-e8bd-60f34e423ce4",
        "colab": {
          "base_uri": "https://localhost:8080/",
          "height": 151
        }
      },
      "source": [
        "### Dict of all the filenames indexed by background image type\n",
        "fg_bg_file_list = load_return_fgbg_lists()"
      ],
      "execution_count": 0,
      "outputs": [
        {
          "output_type": "stream",
          "text": [
            "/content/S15EVA4/classroom/*png\n",
            "/content/S15EVA4/college_outdoors/*png\n",
            "/content/S15EVA4/corridors/*png\n",
            "/content/S15EVA4/dining_room/*png\n",
            "/content/S15EVA4/lobby/*png\n",
            "/content/S15EVA4/malls/*png\n",
            "/content/S15EVA4/meeting_rooms/*png\n",
            "/content/S15EVA4/people_cropresize/*png\n"
          ],
          "name": "stdout"
        }
      ]
    },
    {
      "cell_type": "markdown",
      "metadata": {
        "id": "R8xnfS1mBC-8",
        "colab_type": "text"
      },
      "source": [
        "### Foreground with masks, flips and masks of flips"
      ]
    },
    {
      "cell_type": "code",
      "metadata": {
        "id": "zNCs_NycGv2v",
        "colab_type": "code",
        "colab": {}
      },
      "source": [
        "%cd /content/S15EVA4/"
      ],
      "execution_count": 0,
      "outputs": []
    },
    {
      "cell_type": "code",
      "metadata": {
        "id": "nTd1KiAoRj47",
        "colab_type": "code",
        "colab": {}
      },
      "source": [
        "generate_fg_set(fg_bg_file_list['people_cropresize'])#[1]"
      ],
      "execution_count": 0,
      "outputs": []
    },
    {
      "cell_type": "code",
      "metadata": {
        "id": "wcyHWFz9HkHx",
        "colab_type": "code",
        "outputId": "4d41ff08-95ce-4810-f65c-5e714b9104c4",
        "colab": {
          "base_uri": "https://localhost:8080/",
          "height": 34
        }
      },
      "source": [
        "fg_bg_file_list.keys()"
      ],
      "execution_count": 0,
      "outputs": [
        {
          "output_type": "execute_result",
          "data": {
            "text/plain": [
              "dict_keys(['classroom', 'college_outdoors', 'corridors', 'dining_room', 'lobby', 'malls', 'meeting_rooms', 'people_cropresize'])"
            ]
          },
          "metadata": {
            "tags": []
          },
          "execution_count": 19
        }
      ]
    },
    {
      "cell_type": "code",
      "metadata": {
        "id": "vkztHCVEo818",
        "colab_type": "code",
        "colab": {}
      },
      "source": [
        "large_bg_file_list = []\n",
        "for iter in list(fg_bg_file_list.keys())[:-1]:\n",
        "    large_bg_file_list.extend(fg_bg_file_list[iter])"
      ],
      "execution_count": 0,
      "outputs": []
    },
    {
      "cell_type": "code",
      "metadata": {
        "id": "w4K3VQ-xpb-h",
        "colab_type": "code",
        "colab": {}
      },
      "source": [
        "large_file_list = [ (bg, fg) for bg in large_bg_file_list for fg in fg_bg_file_list['people_cropresize']]"
      ],
      "execution_count": 0,
      "outputs": []
    },
    {
      "cell_type": "code",
      "metadata": {
        "id": "oFvJSTq2p98a",
        "colab_type": "code",
        "outputId": "a6759505-3950-4d46-b879-f2e5d1e7f1f7",
        "colab": {
          "base_uri": "https://localhost:8080/",
          "height": 34
        }
      },
      "source": [
        "len(large_bg_file_list),len(large_file_list)"
      ],
      "execution_count": 0,
      "outputs": [
        {
          "output_type": "execute_result",
          "data": {
            "text/plain": [
              "(0, 0)"
            ]
          },
          "metadata": {
            "tags": []
          },
          "execution_count": 22
        }
      ]
    },
    {
      "cell_type": "markdown",
      "metadata": {
        "id": "ic-ZC7j3u_GE",
        "colab_type": "text"
      },
      "source": [
        "### Triggers the mammoth overlay operations"
      ]
    },
    {
      "cell_type": "code",
      "metadata": {
        "id": "84ST_hVabNp_",
        "colab_type": "code",
        "outputId": "8b13e3fc-86fe-481c-f13f-93b4ef3dd576",
        "colab": {
          "base_uri": "https://localhost:8080/",
          "height": 34
        }
      },
      "source": [
        "from tqdm import tqdm\n",
        "import os\n",
        "import pandas as pd\n",
        "\n",
        "df_file_list = pd.read_csv(\"/content/drive/My Drive/EVA4/tsai/S15EVA4/fg_bg.csv\")\n",
        "pbar = tqdm(df_file_list.loc[8000:,[\"Background\",\"Foreground\"]].values)\n",
        "counter = 0\n",
        "file_count = 0\n",
        "for background_file, foreground_file in pbar:\n",
        "    counter=counter+1\n",
        "    if(counter%100 == 0 ):\n",
        "        file_count = len([ val for folder_name in list(fg_bg_file_list.keys())[:-1] for val in glob.glob(\"/content/S15EVA4/\"+folder_name+\"/aug_images/*jpg\")])\n",
        "        #print(\"Total files:{}\".format(file_count))\n",
        "    status_desc = \"Currently handling: {}:{} {} File Count:{}\".format(counter,os.path.basename(background_file), os.path.basename(foreground_file), file_count)\n",
        "    pbar.set_description(status_desc)    \n",
        "    overlay_images(background_file, foreground_file,replica_count=20, save_images=True, debug=False)"
      ],
      "execution_count": 0,
      "outputs": [
        {
          "output_type": "stream",
          "text": [
            "Currently handling: 4100:meetin_room_9.png people_188.png File Count:327920: 100%|██████████| 4100/4100 [18:17<00:00,  3.74it/s]\n"
          ],
          "name": "stderr"
        }
      ]
    },
    {
      "cell_type": "code",
      "metadata": {
        "id": "9BuBptK5iLR-",
        "colab_type": "code",
        "outputId": "99d580bf-a7fe-4beb-d602-51faff3eeb08",
        "colab": {
          "base_uri": "https://localhost:8080/",
          "height": 34
        }
      },
      "source": [
        "file_list = [ val for folder_name in list(fg_bg_file_list.keys())[:-1] for val in glob.glob(\"/content/S15EVA4/\"+folder_name+\"/aug_images/*jpg\")]\n",
        "print(\"Total files to be zipped:{}\".format(len(file_list)))\n",
        "from zipfile import ZipFile \n",
        "import os \n",
        "with ZipFile('my_python_files_8k12k.zip','w') as zip: \n",
        "    # writing each file one by one \n",
        "    for file in file_list: \n",
        "        zip.write(file)"
      ],
      "execution_count": 0,
      "outputs": [
        {
          "output_type": "stream",
          "text": [
            "Total files to be zipped:328000\n"
          ],
          "name": "stdout"
        }
      ]
    },
    {
      "cell_type": "code",
      "metadata": {
        "id": "_894TQKW3vH3",
        "colab_type": "code",
        "colab": {}
      },
      "source": [
        "!mv /content/S15EVA4/my_python_files_8k12k.zip /content/drive/My\\ Drive/EVA4/tsai/S15EVA4"
      ],
      "execution_count": 0,
      "outputs": []
    },
    {
      "cell_type": "markdown",
      "metadata": {
        "id": "lUNlnaAxugAe",
        "colab_type": "text"
      },
      "source": [
        "### Depth Model invocation to create Depth Images"
      ]
    },
    {
      "cell_type": "code",
      "metadata": {
        "id": "eOWpKpgCPJDy",
        "colab_type": "code",
        "outputId": "6d6e12d4-4168-4518-8538-33dbae3e2f7e",
        "colab": {
          "base_uri": "https://localhost:8080/",
          "height": 34
        }
      },
      "source": [
        "%cd /content/drive/My\\ Drive/EVA4"
      ],
      "execution_count": 0,
      "outputs": [
        {
          "output_type": "stream",
          "text": [
            "/content/drive/My Drive/EVA4\n"
          ],
          "name": "stdout"
        }
      ]
    },
    {
      "cell_type": "code",
      "metadata": {
        "id": "Qb9TX3KNimmF",
        "colab_type": "code",
        "outputId": "bc3dc064-ee33-46bc-957e-7e3a04893149",
        "colab": {
          "base_uri": "https://localhost:8080/",
          "height": 134
        }
      },
      "source": [
        "!git clone https://github.com/ialhashim/DenseDepth.git"
      ],
      "execution_count": 0,
      "outputs": [
        {
          "output_type": "stream",
          "text": [
            "Cloning into 'DenseDepth'...\n",
            "remote: Enumerating objects: 4, done.\u001b[K\n",
            "remote: Counting objects: 100% (4/4), done.\u001b[K\n",
            "remote: Compressing objects: 100% (4/4), done.\u001b[K\n",
            "remote: Total 235 (delta 0), reused 1 (delta 0), pack-reused 231\u001b[K\n",
            "Receiving objects: 100% (235/235), 11.80 MiB | 14.20 MiB/s, done.\n",
            "Resolving deltas: 100% (113/113), done.\n"
          ],
          "name": "stdout"
        }
      ]
    },
    {
      "cell_type": "code",
      "metadata": {
        "id": "5Nh47mR0PPyA",
        "colab_type": "code",
        "outputId": "41162209-36ee-441c-9c41-a2af839a7524",
        "colab": {
          "base_uri": "https://localhost:8080/",
          "height": 202
        }
      },
      "source": [
        "!wget https://s3-eu-west-1.amazonaws.com/densedepth/nyu.h5 -O /content/nyu.h5"
      ],
      "execution_count": 0,
      "outputs": [
        {
          "output_type": "stream",
          "text": [
            "--2020-05-03 10:46:05--  https://s3-eu-west-1.amazonaws.com/densedepth/nyu.h5\n",
            "Resolving s3-eu-west-1.amazonaws.com (s3-eu-west-1.amazonaws.com)... 52.218.65.4\n",
            "Connecting to s3-eu-west-1.amazonaws.com (s3-eu-west-1.amazonaws.com)|52.218.65.4|:443... connected.\n",
            "HTTP request sent, awaiting response... 200 OK\n",
            "Length: 172897376 (165M) [application/h5]\n",
            "Saving to: ‘/content/nyu.h5’\n",
            "\n",
            "/content/nyu.h5     100%[===================>] 164.89M  11.6MB/s    in 16s     \n",
            "\n",
            "2020-05-03 10:46:22 (10.4 MB/s) - ‘/content/nyu.h5’ saved [172897376/172897376]\n",
            "\n"
          ],
          "name": "stdout"
        }
      ]
    },
    {
      "cell_type": "code",
      "metadata": {
        "id": "oefc_9pjaJTw",
        "colab_type": "code",
        "colab": {}
      },
      "source": [
        "!python test.py --model \"/content/nyu.h5\" --input \"/content/my_python_files_8k12k.zip\" --chunk_size 300"
      ],
      "execution_count": 0,
      "outputs": []
    },
    {
      "cell_type": "code",
      "metadata": {
        "id": "5RtQg1COpng6",
        "colab_type": "code",
        "outputId": "17b8b83f-1b8c-4042-f870-8548de20777c",
        "colab": {
          "base_uri": "https://localhost:8080/",
          "height": 34
        }
      },
      "source": [
        "file_list = [ folder_name for folder_name in glob.glob(\"/content/test/*jpg\")]\n",
        "print(\"Total files to be zipped:{}\".format(len(file_list)))\n",
        "from zipfile import ZipFile \n",
        "import os \n",
        "with ZipFile('/content/depth_8k12k.zip','w') as zip: \n",
        "    # writing each file one by one \n",
        "    for file in file_list: \n",
        "        zip.write(file,arcname=os.path.basename(file))"
      ],
      "execution_count": 0,
      "outputs": [
        {
          "output_type": "stream",
          "text": [
            "Total files to be zipped:163700\n"
          ],
          "name": "stdout"
        }
      ]
    }
  ]
}
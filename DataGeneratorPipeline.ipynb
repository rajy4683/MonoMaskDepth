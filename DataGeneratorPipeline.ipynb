{
  "nbformat": 4,
  "nbformat_minor": 0,
  "metadata": {
    "colab": {
      "name": "DataGeneratorPipeline.ipynb",
      "provenance": [],
      "collapsed_sections": [],
      "include_colab_link": true
    },
    "kernelspec": {
      "name": "python3",
      "display_name": "Python 3"
    },
    "accelerator": "GPU"
  },
  "cells": [
    {
      "cell_type": "markdown",
      "metadata": {
        "id": "view-in-github",
        "colab_type": "text"
      },
      "source": [
        "<a href=\"https://colab.research.google.com/github/rajy4683/MonoMaskDepth/blob/master/DataGeneratorPipeline.ipynb\" target=\"_parent\"><img src=\"https://colab.research.google.com/assets/colab-badge.svg\" alt=\"Open In Colab\"/></a>"
      ]
    },
    {
      "cell_type": "code",
      "metadata": {
        "id": "kSuQTF6LZ-EW",
        "colab_type": "code",
        "outputId": "b714de6b-68ef-4b20-ae66-1cfff1568da2",
        "colab": {
          "base_uri": "https://localhost:8080/",
          "height": 302
        }
      },
      "source": [
        "!nvidia-smi"
      ],
      "execution_count": 1,
      "outputs": [
        {
          "output_type": "stream",
          "text": [
            "Sun May 10 16:36:01 2020       \n",
            "+-----------------------------------------------------------------------------+\n",
            "| NVIDIA-SMI 440.82       Driver Version: 418.67       CUDA Version: 10.1     |\n",
            "|-------------------------------+----------------------+----------------------+\n",
            "| GPU  Name        Persistence-M| Bus-Id        Disp.A | Volatile Uncorr. ECC |\n",
            "| Fan  Temp  Perf  Pwr:Usage/Cap|         Memory-Usage | GPU-Util  Compute M. |\n",
            "|===============================+======================+======================|\n",
            "|   0  Tesla P4            Off  | 00000000:00:04.0 Off |                    0 |\n",
            "| N/A   35C    P8     7W /  75W |      0MiB /  7611MiB |      0%      Default |\n",
            "+-------------------------------+----------------------+----------------------+\n",
            "                                                                               \n",
            "+-----------------------------------------------------------------------------+\n",
            "| Processes:                                                       GPU Memory |\n",
            "|  GPU       PID   Type   Process name                             Usage      |\n",
            "|=============================================================================|\n",
            "|  No running processes found                                                 |\n",
            "+-----------------------------------------------------------------------------+\n"
          ],
          "name": "stdout"
        }
      ]
    },
    {
      "cell_type": "code",
      "metadata": {
        "id": "TkeUIDcSJXUE",
        "colab_type": "code",
        "outputId": "56928daf-abec-4f7e-f3ee-dbc4eeeea488",
        "colab": {
          "base_uri": "https://localhost:8080/",
          "height": 121
        }
      },
      "source": [
        "from google.colab import drive\n",
        "drive.mount('/content/drive', force_remount=True)\n",
        "\n",
        "import sys"
      ],
      "execution_count": 2,
      "outputs": [
        {
          "output_type": "stream",
          "text": [
            "Go to this URL in a browser: https://accounts.google.com/o/oauth2/auth?client_id=947318989803-6bn6qk8qdgf4n4g3pfee6491hc0brc4i.apps.googleusercontent.com&redirect_uri=urn%3aietf%3awg%3aoauth%3a2.0%3aoob&response_type=code&scope=email%20https%3a%2f%2fwww.googleapis.com%2fauth%2fdocs.test%20https%3a%2f%2fwww.googleapis.com%2fauth%2fdrive%20https%3a%2f%2fwww.googleapis.com%2fauth%2fdrive.photos.readonly%20https%3a%2f%2fwww.googleapis.com%2fauth%2fpeopleapi.readonly\n",
            "\n",
            "Enter your authorization code:\n",
            "··········\n",
            "Mounted at /content/drive\n"
          ],
          "name": "stdout"
        }
      ]
    },
    {
      "cell_type": "code",
      "metadata": {
        "id": "LE5zPYdhNH9D",
        "colab_type": "code",
        "outputId": "9caff07f-a759-4160-8085-261d37562dd8",
        "colab": {
          "base_uri": "https://localhost:8080/",
          "height": 34
        }
      },
      "source": [
        "!pwd"
      ],
      "execution_count": 0,
      "outputs": [
        {
          "output_type": "stream",
          "text": [
            "/content\n"
          ],
          "name": "stdout"
        }
      ]
    },
    {
      "cell_type": "code",
      "metadata": {
        "id": "0isJ7gXDCzsi",
        "colab_type": "code",
        "colab": {}
      },
      "source": [
        "!folder_list=(\"classroom\" \"college_outdoors\" \"corridors\" \"dining_room\" \"malls\" \"lobby\" \"meeting_rooms\" \"people_cropresize\"); for folder_name in ${folder_list[@]}; do mkdir -p /content/S15EVA4/$folder_name /content/S15EVA4/$folder_name/aug_images; cp -Rf /content/drive/My\\ Drive/EVA4/tsai/S15EVA4/$folder_name/*png /content/S15EVA4/$folder_name; done"
      ],
      "execution_count": 0,
      "outputs": []
    },
    {
      "cell_type": "markdown",
      "metadata": {
        "id": "p5sd4efFT2AF",
        "colab_type": "text"
      },
      "source": [
        "### Dependencies\n"
      ]
    },
    {
      "cell_type": "code",
      "metadata": {
        "id": "M5CIVlNHJeJI",
        "colab_type": "code",
        "outputId": "46db4040-9acc-45ae-e595-0ed2935ed62d",
        "colab": {
          "base_uri": "https://localhost:8080/",
          "height": 1000
        }
      },
      "source": [
        "!pip install -r /content/drive/My\\ Drive/EVA4/RekogNizer/requirements.txt"
      ],
      "execution_count": 3,
      "outputs": [
        {
          "output_type": "stream",
          "text": [
            "Collecting pytorch-ignite\n",
            "\u001b[?25l  Downloading https://files.pythonhosted.org/packages/35/55/41e8a995876fd2ade29bdba0c3efefa38e7d605cb353c70f3173c04928b5/pytorch_ignite-0.3.0-py2.py3-none-any.whl (103kB)\n",
            "\r\u001b[K     |███▏                            | 10kB 26.5MB/s eta 0:00:01\r\u001b[K     |██████▎                         | 20kB 33.5MB/s eta 0:00:01\r\u001b[K     |█████████▌                      | 30kB 36.9MB/s eta 0:00:01\r\u001b[K     |████████████▋                   | 40kB 39.7MB/s eta 0:00:01\r\u001b[K     |███████████████▉                | 51kB 40.5MB/s eta 0:00:01\r\u001b[K     |███████████████████             | 61kB 42.4MB/s eta 0:00:01\r\u001b[K     |██████████████████████▏         | 71kB 43.1MB/s eta 0:00:01\r\u001b[K     |█████████████████████████▎      | 81kB 43.3MB/s eta 0:00:01\r\u001b[K     |████████████████████████████▍   | 92kB 44.7MB/s eta 0:00:01\r\u001b[K     |███████████████████████████████▋| 102kB 46.1MB/s eta 0:00:01\r\u001b[K     |████████████████████████████████| 112kB 46.1MB/s \n",
            "\u001b[?25hRequirement already satisfied: torchsummary in /usr/local/lib/python3.6/dist-packages (from -r /content/drive/My Drive/EVA4/RekogNizer/requirements.txt (line 2)) (1.5.1)\n",
            "Collecting wandb\n",
            "\u001b[?25l  Downloading https://files.pythonhosted.org/packages/2d/c9/ebbcefa6ef2ba14a7c62a4ee4415a5fecef8fac5e4d1b4e22af26fd9fe22/wandb-0.8.35-py2.py3-none-any.whl (1.4MB)\n",
            "\u001b[K     |████████████████████████████████| 1.4MB 44.9MB/s \n",
            "\u001b[?25hRequirement already satisfied: numpy in /usr/local/lib/python3.6/dist-packages (from -r /content/drive/My Drive/EVA4/RekogNizer/requirements.txt (line 5)) (1.18.4)\n",
            "Requirement already satisfied: torch in /usr/local/lib/python3.6/dist-packages (from -r /content/drive/My Drive/EVA4/RekogNizer/requirements.txt (line 6)) (1.5.0+cu101)\n",
            "Requirement already satisfied: torchvision in /usr/local/lib/python3.6/dist-packages (from -r /content/drive/My Drive/EVA4/RekogNizer/requirements.txt (line 7)) (0.6.0+cu101)\n",
            "Requirement already satisfied: matplotlib in /usr/local/lib/python3.6/dist-packages (from -r /content/drive/My Drive/EVA4/RekogNizer/requirements.txt (line 8)) (3.2.1)\n",
            "Requirement already satisfied: albumentations in /usr/local/lib/python3.6/dist-packages (from -r /content/drive/My Drive/EVA4/RekogNizer/requirements.txt (line 9)) (0.1.12)\n",
            "Requirement already satisfied: python-dateutil>=2.6.1 in /usr/local/lib/python3.6/dist-packages (from wandb->-r /content/drive/My Drive/EVA4/RekogNizer/requirements.txt (line 3)) (2.8.1)\n",
            "Requirement already satisfied: Click>=7.0 in /usr/local/lib/python3.6/dist-packages (from wandb->-r /content/drive/My Drive/EVA4/RekogNizer/requirements.txt (line 3)) (7.1.2)\n",
            "Collecting gql==0.2.0\n",
            "  Downloading https://files.pythonhosted.org/packages/c4/6f/cf9a3056045518f06184e804bae89390eb706168349daa9dff8ac609962a/gql-0.2.0.tar.gz\n",
            "Collecting sentry-sdk>=0.4.0\n",
            "\u001b[?25l  Downloading https://files.pythonhosted.org/packages/20/7e/19545324e83db4522b885808cd913c3b93ecc0c88b03e037b78c6a417fa8/sentry_sdk-0.14.3-py2.py3-none-any.whl (103kB)\n",
            "\u001b[K     |████████████████████████████████| 112kB 51.9MB/s \n",
            "\u001b[?25hCollecting subprocess32>=3.5.3\n",
            "\u001b[?25l  Downloading https://files.pythonhosted.org/packages/32/c8/564be4d12629b912ea431f1a50eb8b3b9d00f1a0b1ceff17f266be190007/subprocess32-3.5.4.tar.gz (97kB)\n",
            "\u001b[K     |████████████████████████████████| 102kB 15.0MB/s \n",
            "\u001b[?25hCollecting configparser>=3.8.1\n",
            "  Downloading https://files.pythonhosted.org/packages/4b/6b/01baa293090240cf0562cc5eccb69c6f5006282127f2b846fad011305c79/configparser-5.0.0-py3-none-any.whl\n",
            "Collecting docker-pycreds>=0.4.0\n",
            "  Downloading https://files.pythonhosted.org/packages/f5/e8/f6bd1eee09314e7e6dee49cbe2c5e22314ccdb38db16c9fc72d2fa80d054/docker_pycreds-0.4.0-py2.py3-none-any.whl\n",
            "Requirement already satisfied: psutil>=5.0.0 in /usr/local/lib/python3.6/dist-packages (from wandb->-r /content/drive/My Drive/EVA4/RekogNizer/requirements.txt (line 3)) (5.4.8)\n",
            "Requirement already satisfied: six>=1.10.0 in /usr/local/lib/python3.6/dist-packages (from wandb->-r /content/drive/My Drive/EVA4/RekogNizer/requirements.txt (line 3)) (1.12.0)\n",
            "Requirement already satisfied: nvidia-ml-py3>=7.352.0 in /usr/local/lib/python3.6/dist-packages (from wandb->-r /content/drive/My Drive/EVA4/RekogNizer/requirements.txt (line 3)) (7.352.0)\n",
            "Collecting watchdog>=0.8.3\n",
            "\u001b[?25l  Downloading https://files.pythonhosted.org/packages/73/c3/ed6d992006837e011baca89476a4bbffb0a91602432f73bd4473816c76e2/watchdog-0.10.2.tar.gz (95kB)\n",
            "\u001b[K     |████████████████████████████████| 102kB 14.7MB/s \n",
            "\u001b[?25hCollecting shortuuid>=0.5.0\n",
            "  Downloading https://files.pythonhosted.org/packages/25/a6/2ecc1daa6a304e7f1b216f0896b26156b78e7c38e1211e9b798b4716c53d/shortuuid-1.0.1-py3-none-any.whl\n",
            "Requirement already satisfied: PyYAML>=3.10 in /usr/local/lib/python3.6/dist-packages (from wandb->-r /content/drive/My Drive/EVA4/RekogNizer/requirements.txt (line 3)) (3.13)\n",
            "Collecting GitPython>=1.0.0\n",
            "\u001b[?25l  Downloading https://files.pythonhosted.org/packages/44/33/917e6fde1cad13daa7053f39b7c8af3be287314f75f1b1ea8d3fe37a8571/GitPython-3.1.2-py3-none-any.whl (451kB)\n",
            "\u001b[K     |████████████████████████████████| 460kB 53.3MB/s \n",
            "\u001b[?25hRequirement already satisfied: requests>=2.0.0 in /usr/local/lib/python3.6/dist-packages (from wandb->-r /content/drive/My Drive/EVA4/RekogNizer/requirements.txt (line 3)) (2.23.0)\n",
            "Requirement already satisfied: future in /usr/local/lib/python3.6/dist-packages (from torch->-r /content/drive/My Drive/EVA4/RekogNizer/requirements.txt (line 6)) (0.16.0)\n",
            "Requirement already satisfied: pillow>=4.1.1 in /usr/local/lib/python3.6/dist-packages (from torchvision->-r /content/drive/My Drive/EVA4/RekogNizer/requirements.txt (line 7)) (7.0.0)\n",
            "Requirement already satisfied: pyparsing!=2.0.4,!=2.1.2,!=2.1.6,>=2.0.1 in /usr/local/lib/python3.6/dist-packages (from matplotlib->-r /content/drive/My Drive/EVA4/RekogNizer/requirements.txt (line 8)) (2.4.7)\n",
            "Requirement already satisfied: kiwisolver>=1.0.1 in /usr/local/lib/python3.6/dist-packages (from matplotlib->-r /content/drive/My Drive/EVA4/RekogNizer/requirements.txt (line 8)) (1.2.0)\n",
            "Requirement already satisfied: cycler>=0.10 in /usr/local/lib/python3.6/dist-packages (from matplotlib->-r /content/drive/My Drive/EVA4/RekogNizer/requirements.txt (line 8)) (0.10.0)\n",
            "Requirement already satisfied: opencv-python in /usr/local/lib/python3.6/dist-packages (from albumentations->-r /content/drive/My Drive/EVA4/RekogNizer/requirements.txt (line 9)) (4.1.2.30)\n",
            "Collecting imgaug<0.2.7,>=0.2.5\n",
            "\u001b[?25l  Downloading https://files.pythonhosted.org/packages/ad/2e/748dbb7bb52ec8667098bae9b585f448569ae520031932687761165419a2/imgaug-0.2.6.tar.gz (631kB)\n",
            "\u001b[K     |████████████████████████████████| 634kB 53.2MB/s \n",
            "\u001b[?25hRequirement already satisfied: scipy in /usr/local/lib/python3.6/dist-packages (from albumentations->-r /content/drive/My Drive/EVA4/RekogNizer/requirements.txt (line 9)) (1.4.1)\n",
            "Collecting graphql-core<2,>=0.5.0\n",
            "\u001b[?25l  Downloading https://files.pythonhosted.org/packages/b0/89/00ad5e07524d8c523b14d70c685e0299a8b0de6d0727e368c41b89b7ed0b/graphql-core-1.1.tar.gz (70kB)\n",
            "\u001b[K     |████████████████████████████████| 71kB 9.9MB/s \n",
            "\u001b[?25hRequirement already satisfied: promise<3,>=2.0 in /usr/local/lib/python3.6/dist-packages (from gql==0.2.0->wandb->-r /content/drive/My Drive/EVA4/RekogNizer/requirements.txt (line 3)) (2.3)\n",
            "Requirement already satisfied: certifi in /usr/local/lib/python3.6/dist-packages (from sentry-sdk>=0.4.0->wandb->-r /content/drive/My Drive/EVA4/RekogNizer/requirements.txt (line 3)) (2020.4.5.1)\n",
            "Requirement already satisfied: urllib3>=1.10.0 in /usr/local/lib/python3.6/dist-packages (from sentry-sdk>=0.4.0->wandb->-r /content/drive/My Drive/EVA4/RekogNizer/requirements.txt (line 3)) (1.24.3)\n",
            "Collecting pathtools>=0.1.1\n",
            "  Downloading https://files.pythonhosted.org/packages/e7/7f/470d6fcdf23f9f3518f6b0b76be9df16dcc8630ad409947f8be2eb0ed13a/pathtools-0.1.2.tar.gz\n",
            "Collecting gitdb<5,>=4.0.1\n",
            "\u001b[?25l  Downloading https://files.pythonhosted.org/packages/48/11/d1800bca0a3bae820b84b7d813ad1eff15a48a64caea9c823fc8c1b119e8/gitdb-4.0.5-py3-none-any.whl (63kB)\n",
            "\u001b[K     |████████████████████████████████| 71kB 11.3MB/s \n",
            "\u001b[?25hRequirement already satisfied: chardet<4,>=3.0.2 in /usr/local/lib/python3.6/dist-packages (from requests>=2.0.0->wandb->-r /content/drive/My Drive/EVA4/RekogNizer/requirements.txt (line 3)) (3.0.4)\n",
            "Requirement already satisfied: idna<3,>=2.5 in /usr/local/lib/python3.6/dist-packages (from requests>=2.0.0->wandb->-r /content/drive/My Drive/EVA4/RekogNizer/requirements.txt (line 3)) (2.9)\n",
            "Requirement already satisfied: scikit-image>=0.11.0 in /usr/local/lib/python3.6/dist-packages (from imgaug<0.2.7,>=0.2.5->albumentations->-r /content/drive/My Drive/EVA4/RekogNizer/requirements.txt (line 9)) (0.16.2)\n",
            "Collecting smmap<4,>=3.0.1\n",
            "  Downloading https://files.pythonhosted.org/packages/b0/9a/4d409a6234eb940e6a78dfdfc66156e7522262f5f2fecca07dc55915952d/smmap-3.0.4-py2.py3-none-any.whl\n",
            "Requirement already satisfied: PyWavelets>=0.4.0 in /usr/local/lib/python3.6/dist-packages (from scikit-image>=0.11.0->imgaug<0.2.7,>=0.2.5->albumentations->-r /content/drive/My Drive/EVA4/RekogNizer/requirements.txt (line 9)) (1.1.1)\n",
            "Requirement already satisfied: imageio>=2.3.0 in /usr/local/lib/python3.6/dist-packages (from scikit-image>=0.11.0->imgaug<0.2.7,>=0.2.5->albumentations->-r /content/drive/My Drive/EVA4/RekogNizer/requirements.txt (line 9)) (2.4.1)\n",
            "Requirement already satisfied: networkx>=2.0 in /usr/local/lib/python3.6/dist-packages (from scikit-image>=0.11.0->imgaug<0.2.7,>=0.2.5->albumentations->-r /content/drive/My Drive/EVA4/RekogNizer/requirements.txt (line 9)) (2.4)\n",
            "Requirement already satisfied: decorator>=4.3.0 in /usr/local/lib/python3.6/dist-packages (from networkx>=2.0->scikit-image>=0.11.0->imgaug<0.2.7,>=0.2.5->albumentations->-r /content/drive/My Drive/EVA4/RekogNizer/requirements.txt (line 9)) (4.4.2)\n",
            "Building wheels for collected packages: gql, subprocess32, watchdog, imgaug, graphql-core, pathtools\n",
            "  Building wheel for gql (setup.py) ... \u001b[?25l\u001b[?25hdone\n",
            "  Created wheel for gql: filename=gql-0.2.0-cp36-none-any.whl size=7630 sha256=a9decda73f40e2de1b29642aaaa3a564f8208d1386b50fdd39fa6154563c141f\n",
            "  Stored in directory: /root/.cache/pip/wheels/ce/0e/7b/58a8a5268655b3ad74feef5aa97946f0addafb3cbb6bd2da23\n",
            "  Building wheel for subprocess32 (setup.py) ... \u001b[?25l\u001b[?25hdone\n",
            "  Created wheel for subprocess32: filename=subprocess32-3.5.4-cp36-none-any.whl size=6489 sha256=eb7e7b1c21e653537d76450aa7663813d89f335f5d9bc6660318c2cce6ecde90\n",
            "  Stored in directory: /root/.cache/pip/wheels/68/39/1a/5e402bdfdf004af1786c8b853fd92f8c4a04f22aad179654d1\n",
            "  Building wheel for watchdog (setup.py) ... \u001b[?25l\u001b[?25hdone\n",
            "  Created wheel for watchdog: filename=watchdog-0.10.2-cp36-none-any.whl size=73605 sha256=ffc036dce4666525a014e481445e8bf1e4ec431c9be6e50bfaf91cef330380a8\n",
            "  Stored in directory: /root/.cache/pip/wheels/bc/ed/6c/028dea90d31b359cd2a7c8b0da4db80e41d24a59614154072e\n",
            "  Building wheel for imgaug (setup.py) ... \u001b[?25l\u001b[?25hdone\n",
            "  Created wheel for imgaug: filename=imgaug-0.2.6-cp36-none-any.whl size=654020 sha256=5031d5ae339c15355b7316b2661ad8142e3a1b0c83009a8b3994457a4286a6b6\n",
            "  Stored in directory: /root/.cache/pip/wheels/97/ec/48/0d25896c417b715af6236dbcef8f0bed136a1a5e52972fc6d0\n",
            "  Building wheel for graphql-core (setup.py) ... \u001b[?25l\u001b[?25hdone\n",
            "  Created wheel for graphql-core: filename=graphql_core-1.1-cp36-none-any.whl size=104650 sha256=e18e777acee43257e1c8f4941e3eac846fc2b96431b56c60d2cc464e8801c4a6\n",
            "  Stored in directory: /root/.cache/pip/wheels/45/99/d7/c424029bb0fe910c63b68dbf2aa20d3283d023042521bcd7d5\n",
            "  Building wheel for pathtools (setup.py) ... \u001b[?25l\u001b[?25hdone\n",
            "  Created wheel for pathtools: filename=pathtools-0.1.2-cp36-none-any.whl size=8784 sha256=ef798d4946eb497bc81d0c8e67e6bb6019baa48e750c6cb36dd8a264ec78b24a\n",
            "  Stored in directory: /root/.cache/pip/wheels/0b/04/79/c3b0c3a0266a3cb4376da31e5bfe8bba0c489246968a68e843\n",
            "Successfully built gql subprocess32 watchdog imgaug graphql-core pathtools\n",
            "Installing collected packages: pytorch-ignite, graphql-core, gql, sentry-sdk, subprocess32, configparser, docker-pycreds, pathtools, watchdog, shortuuid, smmap, gitdb, GitPython, wandb, imgaug\n",
            "  Found existing installation: imgaug 0.2.9\n",
            "    Uninstalling imgaug-0.2.9:\n",
            "      Successfully uninstalled imgaug-0.2.9\n",
            "Successfully installed GitPython-3.1.2 configparser-5.0.0 docker-pycreds-0.4.0 gitdb-4.0.5 gql-0.2.0 graphql-core-1.1 imgaug-0.2.6 pathtools-0.1.2 pytorch-ignite-0.3.0 sentry-sdk-0.14.3 shortuuid-1.0.1 smmap-3.0.4 subprocess32-3.5.4 wandb-0.8.35 watchdog-0.10.2\n"
          ],
          "name": "stdout"
        }
      ]
    },
    {
      "cell_type": "code",
      "metadata": {
        "id": "hfblgxgzgYN4",
        "colab_type": "code",
        "outputId": "3e75e198-3e71-4c66-e263-03cb4707855e",
        "colab": {
          "base_uri": "https://localhost:8080/",
          "height": 541
        }
      },
      "source": [
        "!pip install -U git+https://github.com/albu/albumentations"
      ],
      "execution_count": 4,
      "outputs": [
        {
          "output_type": "stream",
          "text": [
            "Collecting git+https://github.com/albu/albumentations\n",
            "  Cloning https://github.com/albu/albumentations to /tmp/pip-req-build-i8x4tm2p\n",
            "  Running command git clone -q https://github.com/albu/albumentations /tmp/pip-req-build-i8x4tm2p\n",
            "Requirement already satisfied, skipping upgrade: numpy>=1.11.1 in /usr/local/lib/python3.6/dist-packages (from albumentations==0.4.5) (1.18.4)\n",
            "Requirement already satisfied, skipping upgrade: scipy in /usr/local/lib/python3.6/dist-packages (from albumentations==0.4.5) (1.4.1)\n",
            "Requirement already satisfied, skipping upgrade: imgaug<0.2.7,>=0.2.5 in /usr/local/lib/python3.6/dist-packages (from albumentations==0.4.5) (0.2.6)\n",
            "Requirement already satisfied, skipping upgrade: PyYAML in /usr/local/lib/python3.6/dist-packages (from albumentations==0.4.5) (3.13)\n",
            "Requirement already satisfied, skipping upgrade: opencv-python>=4.1.1 in /usr/local/lib/python3.6/dist-packages (from albumentations==0.4.5) (4.1.2.30)\n",
            "Requirement already satisfied, skipping upgrade: scikit-image>=0.11.0 in /usr/local/lib/python3.6/dist-packages (from imgaug<0.2.7,>=0.2.5->albumentations==0.4.5) (0.16.2)\n",
            "Requirement already satisfied, skipping upgrade: six in /usr/local/lib/python3.6/dist-packages (from imgaug<0.2.7,>=0.2.5->albumentations==0.4.5) (1.12.0)\n",
            "Requirement already satisfied, skipping upgrade: imageio>=2.3.0 in /usr/local/lib/python3.6/dist-packages (from scikit-image>=0.11.0->imgaug<0.2.7,>=0.2.5->albumentations==0.4.5) (2.4.1)\n",
            "Requirement already satisfied, skipping upgrade: PyWavelets>=0.4.0 in /usr/local/lib/python3.6/dist-packages (from scikit-image>=0.11.0->imgaug<0.2.7,>=0.2.5->albumentations==0.4.5) (1.1.1)\n",
            "Requirement already satisfied, skipping upgrade: pillow>=4.3.0 in /usr/local/lib/python3.6/dist-packages (from scikit-image>=0.11.0->imgaug<0.2.7,>=0.2.5->albumentations==0.4.5) (7.0.0)\n",
            "Requirement already satisfied, skipping upgrade: matplotlib!=3.0.0,>=2.0.0 in /usr/local/lib/python3.6/dist-packages (from scikit-image>=0.11.0->imgaug<0.2.7,>=0.2.5->albumentations==0.4.5) (3.2.1)\n",
            "Requirement already satisfied, skipping upgrade: networkx>=2.0 in /usr/local/lib/python3.6/dist-packages (from scikit-image>=0.11.0->imgaug<0.2.7,>=0.2.5->albumentations==0.4.5) (2.4)\n",
            "Requirement already satisfied, skipping upgrade: python-dateutil>=2.1 in /usr/local/lib/python3.6/dist-packages (from matplotlib!=3.0.0,>=2.0.0->scikit-image>=0.11.0->imgaug<0.2.7,>=0.2.5->albumentations==0.4.5) (2.8.1)\n",
            "Requirement already satisfied, skipping upgrade: pyparsing!=2.0.4,!=2.1.2,!=2.1.6,>=2.0.1 in /usr/local/lib/python3.6/dist-packages (from matplotlib!=3.0.0,>=2.0.0->scikit-image>=0.11.0->imgaug<0.2.7,>=0.2.5->albumentations==0.4.5) (2.4.7)\n",
            "Requirement already satisfied, skipping upgrade: kiwisolver>=1.0.1 in /usr/local/lib/python3.6/dist-packages (from matplotlib!=3.0.0,>=2.0.0->scikit-image>=0.11.0->imgaug<0.2.7,>=0.2.5->albumentations==0.4.5) (1.2.0)\n",
            "Requirement already satisfied, skipping upgrade: cycler>=0.10 in /usr/local/lib/python3.6/dist-packages (from matplotlib!=3.0.0,>=2.0.0->scikit-image>=0.11.0->imgaug<0.2.7,>=0.2.5->albumentations==0.4.5) (0.10.0)\n",
            "Requirement already satisfied, skipping upgrade: decorator>=4.3.0 in /usr/local/lib/python3.6/dist-packages (from networkx>=2.0->scikit-image>=0.11.0->imgaug<0.2.7,>=0.2.5->albumentations==0.4.5) (4.4.2)\n",
            "Building wheels for collected packages: albumentations\n",
            "  Building wheel for albumentations (setup.py) ... \u001b[?25l\u001b[?25hdone\n",
            "  Created wheel for albumentations: filename=albumentations-0.4.5-cp36-none-any.whl size=65055 sha256=98440d8183354ea0039a55d30b9280293eaecce15d1fea7441eb93e7a8ca4faa\n",
            "  Stored in directory: /tmp/pip-ephem-wheel-cache-l63gemot/wheels/45/8b/e4/2837bbcf517d00732b8e394f8646f22b8723ac00993230188b\n",
            "Successfully built albumentations\n",
            "Installing collected packages: albumentations\n",
            "  Found existing installation: albumentations 0.1.12\n",
            "    Uninstalling albumentations-0.1.12:\n",
            "      Successfully uninstalled albumentations-0.1.12\n",
            "Successfully installed albumentations-0.4.5\n"
          ],
          "name": "stdout"
        }
      ]
    },
    {
      "cell_type": "code",
      "metadata": {
        "id": "sI3bimQe2u6I",
        "colab_type": "code",
        "colab": {}
      },
      "source": [
        "import os\n",
        "\n",
        "import numpy as np\n",
        "import cv2\n",
        "from matplotlib import pyplot as plt\n",
        "from skimage.color import label2rgb\n",
        "\n",
        "import albumentations as A\n",
        "import random\n",
        "from google.colab.patches import cv2_imshow\n",
        "from PIL import Image\n",
        "import glob\n",
        "from zipfile import ZipFile\n"
      ],
      "execution_count": 0,
      "outputs": []
    },
    {
      "cell_type": "code",
      "metadata": {
        "id": "OxlfJ1AX3E6E",
        "colab_type": "code",
        "colab": {}
      },
      "source": [
        "def load_return_fgbg_lists():\n",
        "    base_dir = \"/content/S15EVA4/\"\n",
        "    file_format = \"*png\"\n",
        "    folder_list = [\"classroom\", \"college_outdoors\", \n",
        "                   \"corridors\", \"dining_room\",\n",
        "                   \"lobby\",\"malls\", \"meeting_rooms\",\n",
        "                   \"people_cropresize\"]\n",
        "    folder_dict = dict()\n",
        "    for folder_name in folder_list:\n",
        "        full_path = base_dir+folder_name+\"/\"+\"*png\"\n",
        "        print(full_path)\n",
        "        folder_dict[folder_name] = [ val for val in glob.glob(full_path)]\n",
        "    return folder_dict\n"
      ],
      "execution_count": 0,
      "outputs": []
    },
    {
      "cell_type": "code",
      "metadata": {
        "id": "ZFgJaitG4PNy",
        "colab_type": "code",
        "outputId": "3726ba2a-f482-41d7-e8bd-60f34e423ce4",
        "colab": {
          "base_uri": "https://localhost:8080/",
          "height": 151
        }
      },
      "source": [
        "fg_bg_file_list = load_return_fgbg_lists()"
      ],
      "execution_count": 0,
      "outputs": [
        {
          "output_type": "stream",
          "text": [
            "/content/S15EVA4/classroom/*png\n",
            "/content/S15EVA4/college_outdoors/*png\n",
            "/content/S15EVA4/corridors/*png\n",
            "/content/S15EVA4/dining_room/*png\n",
            "/content/S15EVA4/lobby/*png\n",
            "/content/S15EVA4/malls/*png\n",
            "/content/S15EVA4/meeting_rooms/*png\n",
            "/content/S15EVA4/people_cropresize/*png\n"
          ],
          "name": "stdout"
        }
      ]
    },
    {
      "cell_type": "code",
      "metadata": {
        "pycharm": {
          "is_executing": false
        },
        "id": "peqOi4-j5FYQ",
        "colab_type": "code",
        "colab": {}
      },
      "source": [
        "\n",
        "BOX_COLOR = (255, 0, 0)\n",
        "TEXT_COLOR = (255, 255, 255)\n",
        "\n",
        "def visualize_bbox(img, bbox, color=BOX_COLOR, thickness=2, **kwargs):\n",
        "    #height, width = img.shape[:2]\n",
        "\n",
        "    x_min, y_min, w, h = bbox\n",
        "    x_min, x_max, y_min, y_max = int(x_min), int(x_min + w), int(y_min), int(y_min + h)\n",
        "    \n",
        "    cv2.rectangle(img, (x_min, y_min), (x_max, y_max), color=color, thickness=thickness)\n",
        "    return img\n",
        "\n",
        "def visualize_titles(img, bbox, title, color=BOX_COLOR, thickness=2, font_thickness = 2, font_scale=0.35, **kwargs):\n",
        "    #height, width = img.shape[:2]\n",
        "    x_min, y_min, w, h = bbox\n",
        "    x_min, x_max, y_min, y_max = int(x_min), int(x_min + w), int(y_min), int(y_min + h)\n",
        "    \n",
        "    ((text_width, text_height), _) = cv2.getTextSize(title, cv2.FONT_HERSHEY_SIMPLEX, font_scale, font_thickness)\n",
        "    cv2.rectangle(img, (x_min, y_min - int(1.3 * text_height)), (x_min + text_width, y_min), BOX_COLOR, -1)\n",
        "    cv2.putText(img, title, (x_min, y_min - int(0.3 * text_height)), cv2.FONT_HERSHEY_SIMPLEX, font_scale, TEXT_COLOR,\n",
        "                font_thickness, lineType=cv2.LINE_AA)\n",
        "    return img\n",
        "\n",
        "\n",
        "def augment_and_show(aug, image, mask=None, bboxes=[], categories=[], category_id_to_name=[], filename=None, \n",
        "                     font_scale_orig=0.35, \n",
        "                     font_scale_aug=0.35, show_title=True, **kwargs):\n",
        "\n",
        "    augmented = aug(image=image, mask=mask, bboxes=bboxes, category_id=categories)\n",
        "\n",
        "    image = cv2.cvtColor(image, cv2.COLOR_BGR2RGB)\n",
        "    image_aug = cv2.cvtColor(augmented['image'], cv2.COLOR_BGR2RGB)\n",
        "\n",
        "    for bbox in bboxes:\n",
        "        visualize_bbox(image, bbox, **kwargs)\n",
        "\n",
        "    for bbox in augmented['bboxes']:\n",
        "        visualize_bbox(image_aug, bbox, **kwargs)\n",
        "\n",
        "    if show_title:\n",
        "        for bbox,cat_id in zip(bboxes, categories):\n",
        "            visualize_titles(image, bbox, category_id_to_name[cat_id], font_scale=font_scale_orig, **kwargs)\n",
        "        for bbox,cat_id in zip(augmented['bboxes'], augmented['category_id']):\n",
        "            visualize_titles(image_aug, bbox, category_id_to_name[cat_id], font_scale=font_scale_aug, **kwargs)\n",
        "\n",
        "    \n",
        "    if mask is None:\n",
        "        f, ax = plt.subplots(1, 2, figsize=(16, 8))\n",
        "        \n",
        "        ax[0].imshow(image)\n",
        "        ax[0].set_title('Original image')\n",
        "        \n",
        "        ax[1].imshow(image_aug)\n",
        "        ax[1].set_title('Augmented image')\n",
        "    else:\n",
        "        f, ax = plt.subplots(2, 2, figsize=(16, 16))\n",
        "        \n",
        "        if len(mask.shape) != 3:\n",
        "            mask = label2rgb(mask, bg_label=0)            \n",
        "            mask_aug = label2rgb(augmented['mask'], bg_label=0)\n",
        "        else:\n",
        "            mask = cv2.cvtColor(mask, cv2.COLOR_BGR2RGB)\n",
        "            mask_aug = cv2.cvtColor(augmented['mask'], cv2.COLOR_BGR2RGB)\n",
        "            \n",
        "        ax[0, 0].imshow(image)\n",
        "        ax[0, 0].set_title('Original image')\n",
        "        \n",
        "        ax[0, 1].imshow(image_aug)\n",
        "        ax[0, 1].set_title('Augmented image')\n",
        "        \n",
        "        ax[1, 0].imshow(mask, interpolation='nearest')\n",
        "        ax[1, 0].set_title('Original mask')\n",
        "\n",
        "        ax[1, 1].imshow(mask_aug, interpolation='nearest')\n",
        "        ax[1, 1].set_title('Augmented mask')\n",
        "\n",
        "    f.tight_layout()\n",
        "    if filename is not None:\n",
        "        f.savefig(filename)\n",
        "        \n",
        "    return augmented['image'], augmented['mask'], augmented['bboxes']\n",
        "\n",
        "def find_in_dir(dirname):\n",
        "    return [os.path.join(dirname, fname) for fname in sorted(os.listdir(dirname))]\n",
        "\n",
        "def generate_mask(img,debug=False):    \n",
        "    lower_white = np.array([1, 1,1,4])\n",
        "    upper_white = np.array([255,255,255,4])\n",
        "    mask = cv2.inRange(img, lower_white, upper_white)\n",
        "    if debug == True:\n",
        "        cv2_imshow(img)\n",
        "        cv2_imshow(mask)\n",
        "    return mask\n",
        "    \n",
        "\n"
      ],
      "execution_count": 0,
      "outputs": []
    },
    {
      "cell_type": "code",
      "metadata": {
        "id": "0ZSinNAseNhd",
        "colab_type": "code",
        "colab": {}
      },
      "source": [
        "def image_overlay(background, foreground, x_offset, y_offset):\n",
        "    #x_offset=y_offset=100\n",
        "\n",
        "    #x1, x2 = x_offset, x_offset + foreground_img.shape[0]\n",
        "    #y1, y2 = y_offset, y_offset + foreground_img.shape[1]\n",
        "\n",
        "    background_full = Image.open(background)#.resize((250,250))\n",
        "    foreground = Image.open(foreground).convert('RGBA')\n",
        "    background_full.paste(foreground, (x_offset, y_offset), foreground)\n",
        "    return background_full\n",
        "\n",
        "\n"
      ],
      "execution_count": 0,
      "outputs": []
    },
    {
      "cell_type": "code",
      "metadata": {
        "id": "kiSeP_cp5pYp",
        "colab_type": "code",
        "colab": {}
      },
      "source": [
        "random.seed(42)\n",
        "\n",
        "#cv2.imread('images/parrot.jpg')\n",
        "\n",
        "flip = A.Compose([\n",
        "    A.IAAFliplr(p=1,always_apply=True),\n",
        "    # A.RandomBrightnessContrast(p=1),    \n",
        "    # A.RandomGamma(p=1),    \n",
        "    # A.CLAHE(p=1),    \n",
        "], p=1)\n",
        "\n",
        "resize_bg = A.Compose([\n",
        "    A.Resize(250,250,always_apply=True,p=1),\n",
        "    #A.CLAHE(p=1),\n",
        "    #A.HueSaturationValue(hue_shift_limit=20, sat_shift_limit=50, val_shift_limit=50, p=1),\n",
        "], p=1)\n",
        "\n",
        "\n",
        "strong = A.Compose([\n",
        "    A.ChannelShuffle(p=1),\n",
        "], p=1)"
      ],
      "execution_count": 0,
      "outputs": []
    },
    {
      "cell_type": "code",
      "metadata": {
        "id": "BQEIxCuF8V5s",
        "colab_type": "code",
        "colab": {}
      },
      "source": [
        "def image_overlay_numpy(background, foreground, x_offset, y_offset):\n",
        "    #x_offset=y_offset=100\n",
        "\n",
        "    #x1, x2 = x_offset, x_offset + foreground_img.shape[0]\n",
        "    #y1, y2 = y_offset, y_offset + foreground_img.shape[1]\n",
        "\n",
        "    background_full = Image.fromarray(background)\n",
        "    #Image.open(background)#.resize((250,250))\n",
        "    foreground = Image.fromarray(foreground).convert('RGBA')\n",
        "    #Image.open(foreground).convert('RGBA')\n",
        "    background_full.paste(foreground, (x_offset, y_offset), foreground)\n",
        "    return background_full.convert('RGB')"
      ],
      "execution_count": 0,
      "outputs": []
    },
    {
      "cell_type": "code",
      "metadata": {
        "id": "4yCBLGp1ikGS",
        "colab_type": "code",
        "colab": {}
      },
      "source": [
        "def rand_run_name():\n",
        "    ran = random.randrange(10**80)\n",
        "    myhex = \"%064x\" % ran\n",
        "    #limit string to 64 characters\n",
        "    myhex = myhex[:10]\n",
        "    return myhex"
      ],
      "execution_count": 0,
      "outputs": []
    },
    {
      "cell_type": "code",
      "metadata": {
        "id": "9FSUgChFOPFj",
        "colab_type": "code",
        "colab": {}
      },
      "source": [
        "def generate_mask(img,debug=False):    \n",
        "    lower_white = np.array([1, 1,1])\n",
        "    upper_white = np.array([255,255,255])\n",
        "    mask = cv2.inRange(img[:,:,:-1], lower_white, upper_white)\n",
        "    if debug == True:\n",
        "        cv2_imshow(img)\n",
        "        cv2_imshow(mask)\n",
        "    return mask\n",
        "\n",
        "def generate_fg_set(base_image_list, debug=False):\n",
        "    for base_image_name in base_image_list:\n",
        "        save_dir = os.path.join(os.path.dirname(base_image_name),\"aug_images\")\n",
        "        basefile_name = os.path.basename(base_image_name)\n",
        "        mask_name = \"mask_\"+basefile_name\n",
        "        flip_name = \"flip_\"+basefile_name\n",
        "        flip_mask_name = \"mask_\"+flip_name\n",
        "        print(basefile_name, mask_name, flip_name,flip_mask_name)\n",
        "\n",
        "        base_image = np.array(Image.open(base_image_name))\n",
        "        base_mask = generate_mask(np.array(base_image))\n",
        "        \n",
        "        flipped_image = flip(image=base_image, mask=base_mask)\n",
        "        Image.fromarray(base_mask).save(os.path.join(save_dir,mask_name))\n",
        "        Image.fromarray(flipped_image['image']).save(os.path.join(save_dir,flip_name))\n",
        "        Image.fromarray(flipped_image['mask']).save(os.path.join(save_dir,flip_mask_name))\n",
        "        \n",
        "        if (debug == True):\n",
        "            display(Image.fromarray(base_image))\n",
        "            display(Image.fromarray(base_mask))\n",
        "            display(Image.fromarray(flipped_image['image']))\n",
        "            display(Image.fromarray(flipped_image['mask']))\n",
        "\n",
        "\n"
      ],
      "execution_count": 0,
      "outputs": []
    },
    {
      "cell_type": "markdown",
      "metadata": {
        "id": "R8xnfS1mBC-8",
        "colab_type": "text"
      },
      "source": [
        "### Foreground with masks, flips and masks of flips"
      ]
    },
    {
      "cell_type": "code",
      "metadata": {
        "id": "zNCs_NycGv2v",
        "colab_type": "code",
        "outputId": "1576862a-d720-4854-d496-5f9735dec494",
        "colab": {
          "base_uri": "https://localhost:8080/",
          "height": 50
        }
      },
      "source": [
        "%cd /content/S15EVA4/"
      ],
      "execution_count": 0,
      "outputs": [
        {
          "output_type": "stream",
          "text": [
            "[Errno 2] No such file or directory: '/content/S15EVA4/'\n",
            "/content\n"
          ],
          "name": "stdout"
        }
      ]
    },
    {
      "cell_type": "code",
      "metadata": {
        "id": "nTd1KiAoRj47",
        "colab_type": "code",
        "colab": {}
      },
      "source": [
        "generate_fg_set(fg_bg_file_list['people_cropresize'])#[1]"
      ],
      "execution_count": 0,
      "outputs": []
    },
    {
      "cell_type": "code",
      "metadata": {
        "id": "RL3juFDtOGeo",
        "colab_type": "code",
        "colab": {}
      },
      "source": [
        "def get_resize_aug(height_val, width_val):\n",
        "    return A.Compose([\n",
        "            A.Resize(height_val,width_val,always_apply=True,p=1),\n",
        "            ], p=1)"
      ],
      "execution_count": 0,
      "outputs": []
    },
    {
      "cell_type": "code",
      "metadata": {
        "id": "Kdc9dDOaCeIa",
        "colab_type": "code",
        "colab": {}
      },
      "source": [
        "def get_fg_image_masks(fg_file_name, bg_height, bg_width, debug=False):\n",
        "    save_dir = os.path.join(os.path.dirname(fg_file_name),\"aug_images\")\n",
        "    basefile_name = os.path.basename(fg_file_name)\n",
        "\n",
        "    basefile = np.array(Image.open(fg_file_name))\n",
        "    mask = np.array(Image.open(os.path.join(save_dir, \"mask_\"+basefile_name)))\n",
        "    flip = np.array(Image.open(os.path.join(save_dir, \"flip_\"+basefile_name)))\n",
        "    mask_flip = np.array(Image.open(os.path.join(save_dir, \"mask_flip_\"+basefile_name)))\n",
        "\n",
        "\n",
        "    aspect_ratio = basefile.shape[0]/basefile.shape[1]\n",
        "    final_fg_height = bg_height//2\n",
        "    final_fg_width = np.int(final_fg_height // aspect_ratio)\n",
        "\n",
        "    \n",
        "\n",
        "    resized_orig_fg = get_resize_aug( final_fg_height, final_fg_width)(image=basefile, mask=mask)\n",
        "    resized_flip_fg = get_resize_aug( final_fg_height, final_fg_width)(image=flip, mask=mask_flip)\n",
        "\n",
        "    #print(resized_orig_fg['image'].shape)\n",
        "    if (debug == True):\n",
        "        print(\"Original shape:{} New Shape: {}\".format(basefile.shape, (final_fg_height, final_fg_width)))\n",
        "        display(Image.fromarray(basefile))\n",
        "        display(Image.fromarray(resized_orig_fg['image']))\n",
        "        display(Image.fromarray(resized_orig_fg['mask']))\n",
        "\n",
        "        display(Image.fromarray(resized_flip_fg['image']))\n",
        "        display(Image.fromarray(resized_flip_fg['mask']))\n",
        "\n",
        "    return resized_orig_fg, resized_flip_fg\n",
        "\n",
        "    #return os.path.join(save_dir, mask_name), os.path.join(save_dir, flip_name),  os.path.join(save_dir, mask_flip_name)\n",
        "\n"
      ],
      "execution_count": 0,
      "outputs": []
    },
    {
      "cell_type": "code",
      "metadata": {
        "id": "Z458ocuqajMY",
        "colab_type": "code",
        "colab": {}
      },
      "source": [
        "\"\"\"\n",
        "  Given BG, FG and Flipped FG, retrieves/creates a new overlayed image and mask   \n",
        "\"\"\"\n",
        "\n",
        "def create_overlayed_img(background, \n",
        "                         foreground, \n",
        "                         flip_foreground, \n",
        "                         x_offset,\n",
        "                         y_offset, \n",
        "                         bg_image, \n",
        "                         debug=False, \n",
        "                         save_images=True):\n",
        "\n",
        "    save_dir = os.path.join(os.path.dirname(bg_image),\"aug_images/\")\n",
        "    filename = os.path.basename(bg_image)\n",
        "    counter = 1\n",
        "    for val in [foreground, flip_foreground]:\n",
        "        rand_str = str(rand_run_name())\n",
        "        image = image_overlay_numpy(background['image'], val['image'], x_offset,y_offset)\n",
        "        mask = image_overlay_numpy(background['mask'], val['mask'], x_offset,y_offset)\n",
        "        if(debug == True):\n",
        "            display(image)\n",
        "            display(mask)\n",
        "        if(save_images == True):\n",
        "            image_save_path = os.path.join(save_dir+\"image_\"+rand_str+\"_\"+filename.replace(\"png\",\"jpg\"))\n",
        "            mask_save_path = os.path.join(save_dir+\"mask_\"+rand_str+\"_\"+filename.replace(\"png\",\"jpg\"))\n",
        "            #print(image_save_path,mask_save_path)\n",
        "            image.save(image_save_path,'JPEG',quality=80)\n",
        "            mask.save(mask_save_path,'JPEG',quality=80)\n"
      ],
      "execution_count": 0,
      "outputs": []
    },
    {
      "cell_type": "code",
      "metadata": {
        "id": "inhAYSHNqrFX",
        "colab_type": "code",
        "colab": {}
      },
      "source": [
        "\"\"\"\n",
        "    Top level-handler function:\n",
        "    1. Calls albumentations to resize both BG, FG and Flipped FG\n",
        "    2. Retrieves the resized masks for BG, FG and Flipped G\n",
        "    3. Calls 'create_overlayed_img()' to blend/overlay the FG and Flipped FG on the BG \n",
        "\"\"\"\n",
        "def overlay_images(background_path, foreground_path, \n",
        "                   bg_height=250,bg_width=250, \n",
        "                   replica_count=20, save_images=True,\n",
        "                   debug=False):\n",
        "    #print(background_path)\n",
        "    #save_dir = os.path.join(os.path.dirname(fg_file_name),\"aug_images\")\n",
        "    image = np.array(Image.open(background_path))\n",
        "    # Masked output \n",
        "    mask_bg = np.zeros_like(image, dtype='uint8')\n",
        "    \n",
        "    resized_bg = get_resize_aug(bg_height,bg_width)(image=image, mask=mask_bg)    \n",
        "    #print(resized_bg['image'].shape)\n",
        "    \n",
        "    \n",
        "    resized_fg, resized_flip_fg  = get_fg_image_masks(foreground_path, bg_height, bg_width)\n",
        "    ### Preventing FG to get thrown out of the FG\n",
        "    max_y_offset = resized_bg['image'].shape[0]-resized_fg['image'].shape[0]\n",
        "    max_x_offset = resized_bg['image'].shape[1]-resized_fg['image'].shape[1]\n",
        "    randn_y = np.random.randint(0, max_y_offset, replica_count)\n",
        "    randn_x = np.random.randint(0, max_x_offset, replica_count)\n",
        "    for tuple_val in zip(randn_y,randn_x):\n",
        "        y_offset=tuple_val[0]\n",
        "        x_offset=tuple_val[1]\n",
        "        create_overlayed_img(resized_bg, resized_fg, resized_flip_fg,\n",
        "                             x_offset, y_offset, background_path, debug=debug, save_images=save_images)"
      ],
      "execution_count": 0,
      "outputs": []
    },
    {
      "cell_type": "code",
      "metadata": {
        "id": "wcyHWFz9HkHx",
        "colab_type": "code",
        "outputId": "4d41ff08-95ce-4810-f65c-5e714b9104c4",
        "colab": {
          "base_uri": "https://localhost:8080/",
          "height": 34
        }
      },
      "source": [
        "fg_bg_file_list.keys()"
      ],
      "execution_count": 0,
      "outputs": [
        {
          "output_type": "execute_result",
          "data": {
            "text/plain": [
              "dict_keys(['classroom', 'college_outdoors', 'corridors', 'dining_room', 'lobby', 'malls', 'meeting_rooms', 'people_cropresize'])"
            ]
          },
          "metadata": {
            "tags": []
          },
          "execution_count": 19
        }
      ]
    },
    {
      "cell_type": "code",
      "metadata": {
        "id": "vkztHCVEo818",
        "colab_type": "code",
        "colab": {}
      },
      "source": [
        "large_bg_file_list = []\n",
        "for iter in list(fg_bg_file_list.keys())[:-1]:\n",
        "    large_bg_file_list.extend(fg_bg_file_list[iter])"
      ],
      "execution_count": 0,
      "outputs": []
    },
    {
      "cell_type": "code",
      "metadata": {
        "id": "w4K3VQ-xpb-h",
        "colab_type": "code",
        "colab": {}
      },
      "source": [
        "large_file_list = [ (bg, fg) for bg in large_bg_file_list for fg in fg_bg_file_list['people_cropresize']]"
      ],
      "execution_count": 0,
      "outputs": []
    },
    {
      "cell_type": "code",
      "metadata": {
        "id": "oFvJSTq2p98a",
        "colab_type": "code",
        "outputId": "a6759505-3950-4d46-b879-f2e5d1e7f1f7",
        "colab": {
          "base_uri": "https://localhost:8080/",
          "height": 34
        }
      },
      "source": [
        "len(large_bg_file_list),len(large_file_list)"
      ],
      "execution_count": 0,
      "outputs": [
        {
          "output_type": "execute_result",
          "data": {
            "text/plain": [
              "(0, 0)"
            ]
          },
          "metadata": {
            "tags": []
          },
          "execution_count": 22
        }
      ]
    },
    {
      "cell_type": "markdown",
      "metadata": {
        "id": "ic-ZC7j3u_GE",
        "colab_type": "text"
      },
      "source": [
        "### Triggers the mammoth overlay operations"
      ]
    },
    {
      "cell_type": "code",
      "metadata": {
        "id": "84ST_hVabNp_",
        "colab_type": "code",
        "outputId": "8b13e3fc-86fe-481c-f13f-93b4ef3dd576",
        "colab": {
          "base_uri": "https://localhost:8080/",
          "height": 34
        }
      },
      "source": [
        "from tqdm import tqdm\n",
        "import os\n",
        "import pandas as pd\n",
        "\n",
        "df_file_list = pd.read_csv(\"/content/drive/My Drive/EVA4/tsai/S15EVA4/fg_bg.csv\")\n",
        "pbar = tqdm(df_file_list.loc[8000:,[\"Background\",\"Foreground\"]].values)\n",
        "counter = 0\n",
        "file_count = 0\n",
        "for background_file, foreground_file in pbar:\n",
        "    counter=counter+1\n",
        "    if(counter%100 == 0 ):\n",
        "        file_count = len([ val for folder_name in list(fg_bg_file_list.keys())[:-1] for val in glob.glob(\"/content/S15EVA4/\"+folder_name+\"/aug_images/*jpg\")])\n",
        "        #print(\"Total files:{}\".format(file_count))\n",
        "    status_desc = \"Currently handling: {}:{} {} File Count:{}\".format(counter,os.path.basename(background_file), os.path.basename(foreground_file), file_count)\n",
        "    pbar.set_description(status_desc)    \n",
        "    overlay_images(background_file, foreground_file,replica_count=20, save_images=True, debug=False)"
      ],
      "execution_count": 0,
      "outputs": [
        {
          "output_type": "stream",
          "text": [
            "Currently handling: 4100:meetin_room_9.png people_188.png File Count:327920: 100%|██████████| 4100/4100 [18:17<00:00,  3.74it/s]\n"
          ],
          "name": "stderr"
        }
      ]
    },
    {
      "cell_type": "code",
      "metadata": {
        "id": "9BuBptK5iLR-",
        "colab_type": "code",
        "outputId": "99d580bf-a7fe-4beb-d602-51faff3eeb08",
        "colab": {
          "base_uri": "https://localhost:8080/",
          "height": 34
        }
      },
      "source": [
        "file_list = [ val for folder_name in list(fg_bg_file_list.keys())[:-1] for val in glob.glob(\"/content/S15EVA4/\"+folder_name+\"/aug_images/*jpg\")]\n",
        "print(\"Total files to be zipped:{}\".format(len(file_list)))\n",
        "from zipfile import ZipFile \n",
        "import os \n",
        "with ZipFile('my_python_files_8k12k.zip','w') as zip: \n",
        "    # writing each file one by one \n",
        "    for file in file_list: \n",
        "        zip.write(file)"
      ],
      "execution_count": 0,
      "outputs": [
        {
          "output_type": "stream",
          "text": [
            "Total files to be zipped:328000\n"
          ],
          "name": "stdout"
        }
      ]
    },
    {
      "cell_type": "code",
      "metadata": {
        "id": "ShRx8xXG7d70",
        "colab_type": "code",
        "colab": {}
      },
      "source": [
        "input_zip = ZipFile(\"/content/drive/My Drive/EVA4/tsai/S15EVA4/my_python_files_1k2k.zip\")"
      ],
      "execution_count": 0,
      "outputs": []
    },
    {
      "cell_type": "code",
      "metadata": {
        "id": "1Q71lDf8_vvA",
        "colab_type": "code",
        "colab": {}
      },
      "source": [
        "input_zip."
      ],
      "execution_count": 0,
      "outputs": []
    },
    {
      "cell_type": "code",
      "metadata": {
        "id": "J07cKAGn7ih7",
        "colab_type": "code",
        "colab": {}
      },
      "source": [
        "import re\n",
        "from io import BytesIO\n",
        "image_list = []\n",
        "for name in input_zip.namelist()[:100]:\n",
        "    if re.search(\"image_\",name):\n",
        "        print(name)\n",
        "        img = Image.open(BytesIO((input_zip.read(name))))\n",
        "        image_list.append(img)\n",
        "        #display(img)\n",
        "        #print(file)"
      ],
      "execution_count": 0,
      "outputs": []
    },
    {
      "cell_type": "code",
      "metadata": {
        "id": "2l-KctCnvwiz",
        "colab_type": "code",
        "colab": {}
      },
      "source": [
        "image_list"
      ],
      "execution_count": 0,
      "outputs": []
    },
    {
      "cell_type": "code",
      "metadata": {
        "id": "_894TQKW3vH3",
        "colab_type": "code",
        "colab": {}
      },
      "source": [
        "!mv /content/S15EVA4/my_python_files_8k12k.zip /content/drive/My\\ Drive/EVA4/tsai/S15EVA4"
      ],
      "execution_count": 0,
      "outputs": []
    },
    {
      "cell_type": "code",
      "metadata": {
        "id": "PYn0GbeEOvm1",
        "colab_type": "code",
        "colab": {}
      },
      "source": [
        "# from IPython.display import display \n",
        "# from PIL import Image\n",
        "# import numpy\n",
        "# import cv2\n",
        "# import numpy as np\n",
        "# from google.colab.patches import cv2_imshow\n",
        "# #from common import Sketcher\n",
        " \n",
        "# image = cv2.imread(people_list[3])\n",
        "# #display(img)\n",
        "\n",
        "# image_mark = image.copy()\n",
        "# hsv = cv2.cvtColor(image_mark, cv2.COLOR_BGR2HSV)\n",
        "# #sketch = Sketcher('Image', [image_mark], lambda : ((255, 255, 255), 255))\n",
        "\n",
        "# gray = cv2.cvtColor(image_mark, cv2.COLOR_BGR2GRAY)\n",
        "# print(image_mark.shape, gray.shape)\n",
        "# cv2_imshow( image_mark)\n",
        "# cv2_imshow( hsv)\n",
        "\n",
        "\n",
        "# lower_white = np.array([0,0,255])\n",
        "# upper_white = np.array([255,255,255])\n",
        "\n",
        "# #mask = cv2.inRange(image_mark, lower_white, upper_white)\n",
        "# mask = cv2.inRange(hsv, lower_white, upper_white)\n",
        "# mask_inv = cv2.bitwise_not(mask)\n",
        "# cv2_imshow( mask)\n",
        "# cv2_imshow( mask_inv)\n",
        "\n",
        "\n",
        "\n",
        "# # Extract the dimensions of the original image\n",
        "# rows, cols, channels = image.shape\n",
        "# image = image[0:rows, 0:cols]\n",
        "\n",
        "# # # Bitwise-OR mask and original image\n",
        "\n",
        "\n",
        "# # # Bitwise-OR inverse mask and grayscale image\n",
        "# # gray_portion = cv2.bitwise_or(gray, gray, mask = mask_inv)\n",
        "# # gray_portion = np.stack((gray_portion,)*3, axis=-1)\n",
        "\n",
        "# # # Combine the two images\n",
        "# # output = colored_portion# + gray_portion\n",
        "\n",
        "# #mask = np.ones(shape=image.shape[0:2], dtype=\"bool\")\n",
        "# colored_portion = cv2.bitwise_or(image, image, mask = mask)\n",
        "# colored_portion = colored_portion[0:rows, 0:cols]\n",
        "# cv2_imshow( mask)\n",
        "# cv2_imshow( colored_portion)\n"
      ],
      "execution_count": 0,
      "outputs": []
    },
    {
      "cell_type": "code",
      "metadata": {
        "id": "F7joRDZwrb5l",
        "colab_type": "code",
        "colab": {}
      },
      "source": [
        "# import cv2\n",
        "# import numpy as np\n",
        "\n",
        "# img = cv2.imread(people_list[1])\n",
        "# #img = cv2.imread('/content/drive/My Drive/EVA4/tsai/S15EVA4/people/mypeople_10.jpg')\n",
        "# gray = cv2.cvtColor(img, cv2.COLOR_BGR2GRAY)\n",
        "# cv2_imshow(img)\n",
        "# #cv2.waitKey(0)\n",
        "# #we readed the image\n",
        "\n",
        "# lower_white = np.array([1, 1,1])\n",
        "# upper_white = np.array([255,255,255])\n",
        "\n",
        "# mask = cv2.inRange(img, lower_white, upper_white)\n",
        "# cv2_imshow(mask)\n",
        "\n",
        "\n",
        "# mask_inv = cv2.bitwise_not(mask)\n",
        "# cv2_imshow(mask_inv)\n",
        "# # #mask = np.ones(img.shape[:2],dtype=\"uint8\")\n",
        "# #plain_white=np.full(img.shape,255, dtype=np.uint8)\n",
        "# cv2_imshow(255-img)\n",
        "\n",
        "\n",
        "# # cv2_imshow(plain_white)\n",
        "# # #print(plain_white.shape)\n",
        "# # mask = np.full((img.shape[0], img.shape[1]), 255, dtype=np.uint8)\n",
        "# # #print(img.shape, mask.shape)\n",
        "# # fg = cv2.bitwise_xor(img, plain_white, mask=mask)\n",
        "# # cv2_imshow(fg)\n",
        "\n",
        "# # # get second masked value (background) mask must be inverted\n",
        "# # # mask = cv2.bitwise_not(mask)\n",
        "# # # background = np.full(img.shape, 128, dtype=np.uint8)\n",
        "# # # cv2_imshow(background)\n",
        "# # # bk = cv2.bitwise_or(background, background, mask=mask)\n",
        "\n",
        "# # # # combine foreground+background\n",
        "# # # final = cv2.bitwise_or(fg, bk)\n",
        "# # cv2_imshow(final)\n",
        "\n",
        "# #img\n"
      ],
      "execution_count": 0,
      "outputs": []
    },
    {
      "cell_type": "code",
      "metadata": {
        "id": "eOWpKpgCPJDy",
        "colab_type": "code",
        "outputId": "6d6e12d4-4168-4518-8538-33dbae3e2f7e",
        "colab": {
          "base_uri": "https://localhost:8080/",
          "height": 34
        }
      },
      "source": [
        "%cd /content/drive/My\\ Drive/EVA4"
      ],
      "execution_count": 0,
      "outputs": [
        {
          "output_type": "stream",
          "text": [
            "/content/drive/My Drive/EVA4\n"
          ],
          "name": "stdout"
        }
      ]
    },
    {
      "cell_type": "code",
      "metadata": {
        "id": "Qb9TX3KNimmF",
        "colab_type": "code",
        "outputId": "bc3dc064-ee33-46bc-957e-7e3a04893149",
        "colab": {
          "base_uri": "https://localhost:8080/",
          "height": 134
        }
      },
      "source": [
        "!git clone https://github.com/ialhashim/DenseDepth.git"
      ],
      "execution_count": 0,
      "outputs": [
        {
          "output_type": "stream",
          "text": [
            "Cloning into 'DenseDepth'...\n",
            "remote: Enumerating objects: 4, done.\u001b[K\n",
            "remote: Counting objects: 100% (4/4), done.\u001b[K\n",
            "remote: Compressing objects: 100% (4/4), done.\u001b[K\n",
            "remote: Total 235 (delta 0), reused 1 (delta 0), pack-reused 231\u001b[K\n",
            "Receiving objects: 100% (235/235), 11.80 MiB | 14.20 MiB/s, done.\n",
            "Resolving deltas: 100% (113/113), done.\n"
          ],
          "name": "stdout"
        }
      ]
    },
    {
      "cell_type": "code",
      "metadata": {
        "id": "5Nh47mR0PPyA",
        "colab_type": "code",
        "outputId": "41162209-36ee-441c-9c41-a2af839a7524",
        "colab": {
          "base_uri": "https://localhost:8080/",
          "height": 202
        }
      },
      "source": [
        "!wget https://s3-eu-west-1.amazonaws.com/densedepth/nyu.h5 -O /content/nyu.h5"
      ],
      "execution_count": 0,
      "outputs": [
        {
          "output_type": "stream",
          "text": [
            "--2020-05-03 10:46:05--  https://s3-eu-west-1.amazonaws.com/densedepth/nyu.h5\n",
            "Resolving s3-eu-west-1.amazonaws.com (s3-eu-west-1.amazonaws.com)... 52.218.65.4\n",
            "Connecting to s3-eu-west-1.amazonaws.com (s3-eu-west-1.amazonaws.com)|52.218.65.4|:443... connected.\n",
            "HTTP request sent, awaiting response... 200 OK\n",
            "Length: 172897376 (165M) [application/h5]\n",
            "Saving to: ‘/content/nyu.h5’\n",
            "\n",
            "/content/nyu.h5     100%[===================>] 164.89M  11.6MB/s    in 16s     \n",
            "\n",
            "2020-05-03 10:46:22 (10.4 MB/s) - ‘/content/nyu.h5’ saved [172897376/172897376]\n",
            "\n"
          ],
          "name": "stdout"
        }
      ]
    },
    {
      "cell_type": "code",
      "metadata": {
        "id": "0EWmkDACHJuE",
        "colab_type": "code",
        "colab": {}
      },
      "source": [
        "import re\n",
        "input_zip = ZipFile(\"/content/drive/My Drive/EVA4/tsai/S15EVA4/my_python_files_1k2k.zip\")\n"
      ],
      "execution_count": 0,
      "outputs": []
    },
    {
      "cell_type": "code",
      "metadata": {
        "id": "POkHHMWCHEZQ",
        "colab_type": "code",
        "outputId": "2a064d4f-85b9-478a-f853-9ca0d6b112d8",
        "colab": {
          "base_uri": "https://localhost:8080/",
          "height": 134
        }
      },
      "source": [
        "from io import BytesIO\n",
        "\n",
        "def load_images_local(image_files):\n",
        "    loaded_images = []\n",
        "    for file_name in image_files:\n",
        "        resized_img = get_resize_aug(480,640)(image=np.asarray(file_name))['image']        \n",
        "        x = np.clip(np.array(resized_img, dtype=float) / 255, 0, 1)\n",
        "        loaded_images.append(x)\n",
        "    return np.stack(loaded_images, axis=0)\n",
        "\n",
        "main_zip_file_list = input_zip.namelist()[:2023]\n",
        "batch_start = 0\n",
        "batch_step = 1000\n",
        "\n",
        "local_step = batch_step\n",
        "max_iter = np.int(np.ceil(len(main_zip_file_list)/batch_step))\n",
        "last_iter_delta = len(main_zip_file_list)%batch_step\n",
        "\n",
        "\n",
        "print(\"Total iter:{} last_batch: {}\".format(max_iter, last_iter_delta))\n",
        "\n",
        "while(max_iter > 0):    \n",
        "    if(max_iter == 1):\n",
        "        local_step=last_iter_delta\n",
        "    print(\"{}:Start: {} Stop: {}\".format(max_iter, batch_start,batch_start+local_step))\n",
        "    batch_start=batch_start+local_step\n",
        "    max_iter-=1\n",
        "    image_list=[]\n",
        "    for name in input_zip.namelist()[batch_start:batch_start+local_step]:\n",
        "        if re.search(\"image_\",name):\n",
        "            #print(name)\n",
        "            img = Image.open(BytesIO((input_zip.read(name))))\n",
        "            image_list.append(img)\n",
        "        #display(img)\n",
        "    \n",
        "    my_local_stack = load_images_local(image_list)\n",
        "    print(len(image_list),len(my_local_stack))\n",
        "    \n",
        "\n",
        "# while (remain > 0):\n",
        "#     #\n",
        "#     #inputs = load_images_local(image_list)\n",
        "#     #outputs = predict(model, inputs)\n",
        "#     #print(\"Start: {} Stop: {}\".format(batch_start,batch_start+local_step))\n",
        "    \n",
        "#     if (remain - (2*batch_step)  > 0):        \n",
        "#         local_step=batch_step\n",
        "#     else:\n",
        "#         #batch_start=batch_start+remain\n",
        "#         local_step=remain\n",
        "#         remain=\n",
        "#     batch_start=batch_start+local_step\n",
        "#     print(\"Start: {} Stop: {} Remain: {}\".format(batch_start,batch_start+local_step, remain))    \n",
        "    "
      ],
      "execution_count": 0,
      "outputs": [
        {
          "output_type": "stream",
          "text": [
            "Total iter:3 last_batch: 23\n",
            "3:Start: 0 Stop: 1000\n",
            "484 484\n",
            "2:Start: 1000 Stop: 2000\n",
            "488 488\n",
            "1:Start: 2000 Stop: 2023\n",
            "8 8\n"
          ],
          "name": "stdout"
        }
      ]
    },
    {
      "cell_type": "code",
      "metadata": {
        "id": "FLI7YKSoPo-q",
        "colab_type": "code",
        "colab": {}
      },
      "source": [
        "# Create a ZipFile Object and load sample.zip in it\n",
        "with ZipFile('/content/drive/My Drive/EVA4/tsai/S15EVA4/my_python_files_1k2k.zip', 'r') as zipObj:\n",
        "   # Extract all the contents of zip file in different directory\n",
        "   zipObj.extractall('/content')"
      ],
      "execution_count": 0,
      "outputs": []
    },
    {
      "cell_type": "code",
      "metadata": {
        "id": "v7ZSWPrwTs5B",
        "colab_type": "code",
        "colab": {}
      },
      "source": [
        "import re\n",
        "input_zip = ZipFile(\"/content/drive/My Drive/EVA4/tsai/S15EVA4/my_python_files_1k2k.zip\")\n",
        "for name in input_zip.namelist()[:200]:\n",
        "    if re.search(\"image_\",name):\n",
        "        #print(name)\n",
        "        input_zip.extract(name,path='/content')\n",
        "        #img = Image.open(BytesIO((input_zip.read(name))))"
      ],
      "execution_count": 0,
      "outputs": []
    },
    {
      "cell_type": "code",
      "metadata": {
        "id": "Eq-hcSUlQFvf",
        "colab_type": "code",
        "outputId": "b08c6b70-b262-4132-826d-36d8eb51cb60",
        "colab": {
          "base_uri": "https://localhost:8080/",
          "height": 34
        }
      },
      "source": [
        "%cd /content/drive/My\\ Drive/EVA4/DenseDepth"
      ],
      "execution_count": 0,
      "outputs": [
        {
          "output_type": "stream",
          "text": [
            "/content/drive/My Drive/EVA4/DenseDepth\n"
          ],
          "name": "stdout"
        }
      ]
    },
    {
      "cell_type": "code",
      "metadata": {
        "id": "3Bz4aNpul52r",
        "colab_type": "code",
        "colab": {}
      },
      "source": [
        "!rm -rf /content/test"
      ],
      "execution_count": 0,
      "outputs": []
    },
    {
      "cell_type": "code",
      "metadata": {
        "id": "3RB-uOKJsC9a",
        "colab_type": "code",
        "outputId": "4fd92a99-b1bb-495a-83e6-62ef0fca8894",
        "colab": {
          "base_uri": "https://localhost:8080/",
          "height": 34
        }
      },
      "source": [
        "!ls -lrth /content/drive/My\\ Drive/EVA4/DenseDepth/nyu.h5"
      ],
      "execution_count": 0,
      "outputs": [
        {
          "output_type": "stream",
          "text": [
            "-rw------- 1 root root 165M Feb  4  2019 '/content/drive/My Drive/EVA4/DenseDepth/nyu.h5'\n"
          ],
          "name": "stdout"
        }
      ]
    },
    {
      "cell_type": "code",
      "metadata": {
        "id": "MYlnV8aSsbgZ",
        "colab_type": "code",
        "colab": {}
      },
      "source": [
        "!cp /content/drive/My\\ Drive/EVA4/tsai/S15EVA4/my_python_files_8k12k.zip /content"
      ],
      "execution_count": 0,
      "outputs": []
    },
    {
      "cell_type": "code",
      "metadata": {
        "id": "oefc_9pjaJTw",
        "colab_type": "code",
        "colab": {}
      },
      "source": [
        "!python test.py --model \"/content/nyu.h5\" --input \"/content/my_python_files_8k12k.zip\" --chunk_size 300"
      ],
      "execution_count": 0,
      "outputs": []
    },
    {
      "cell_type": "code",
      "metadata": {
        "id": "5RtQg1COpng6",
        "colab_type": "code",
        "outputId": "17b8b83f-1b8c-4042-f870-8548de20777c",
        "colab": {
          "base_uri": "https://localhost:8080/",
          "height": 34
        }
      },
      "source": [
        "file_list = [ folder_name for folder_name in glob.glob(\"/content/test/*jpg\")]\n",
        "print(\"Total files to be zipped:{}\".format(len(file_list)))\n",
        "from zipfile import ZipFile \n",
        "import os \n",
        "with ZipFile('/content/depth_8k12k.zip','w') as zip: \n",
        "    # writing each file one by one \n",
        "    for file in file_list: \n",
        "        zip.write(file,arcname=os.path.basename(file))"
      ],
      "execution_count": 0,
      "outputs": [
        {
          "output_type": "stream",
          "text": [
            "Total files to be zipped:163700\n"
          ],
          "name": "stdout"
        }
      ]
    },
    {
      "cell_type": "code",
      "metadata": {
        "id": "q3p-ZW98-jw-",
        "colab_type": "code",
        "colab": {}
      },
      "source": [
        "import re\n",
        "import pandas as pd\n",
        "input_zip = ZipFile(\"/content/drive/My Drive/EVA4/tsai/S15EVA4/my_python_files_8k12k.zip\")\n",
        "file_list = [(os.path.basename(name).replace(\".jpg\",\"\"),name) for name in input_zip.namelist() if re.search(\"image_\",name) ]\n",
        "df_file_list = pd.DataFrame(file_list, columns=[\"BaseName\",\"FullName\"])\n",
        "\n",
        "depth_zip = ZipFile(\"/content/depth_8k12k.zip\")\n",
        "depth_file_list = [ os.path.basename(name).replace(\"depth_\",\"\").replace(\".jpg\",\"\") for name in depth_zip.namelist()]\n",
        "missing_file_list =(df_file_list.loc[~df_file_list.BaseName.isin(depth_file_list),'FullName'].values)"
      ],
      "execution_count": 0,
      "outputs": []
    },
    {
      "cell_type": "code",
      "metadata": {
        "id": "4xbA5-v3_Jdv",
        "colab_type": "code",
        "colab": {}
      },
      "source": [
        "sys.path.append('/content/drive/My Drive/EVA4/')\n",
        "sys.path.append('/content/drive/My Drive/EVA4/RekogNizer')\n",
        "sys.path.append('/content/drive/My Drive/EVA4/DenseDepth')"
      ],
      "execution_count": 0,
      "outputs": []
    },
    {
      "cell_type": "code",
      "metadata": {
        "id": "vR3sAKJX_CZY",
        "colab_type": "code",
        "outputId": "10227b6e-8424-4e64-d95f-fb99b8cb625c",
        "colab": {
          "base_uri": "https://localhost:8080/",
          "height": 118
        }
      },
      "source": [
        "%load_ext autoreload\n",
        "%autoreload 1\n",
        "from DenseDepth import utils#load_execute_names\n",
        "os.environ['TF_CPP_MIN_LOG_LEVEL'] = '5'\n",
        "from keras.models import load_model\n",
        "from layers import BilinearUpSampling2D\n",
        "custom_objects = {'BilinearUpSampling2D': BilinearUpSampling2D, 'depth_loss_function': None}\n",
        "\n",
        "print('Loading model...')\n",
        "\n",
        "# Load model into GPU / CPU\n",
        "model = load_model('/content/nyu.h5', custom_objects=custom_objects, compile=False)\n",
        "utils.load_execute_names(model, input_zip, missing_file_list)"
      ],
      "execution_count": 0,
      "outputs": [
        {
          "output_type": "stream",
          "text": [
            "The autoreload extension is already loaded. To reload it, use:\n",
            "  %reload_ext autoreload\n"
          ],
          "name": "stdout"
        },
        {
          "output_type": "stream",
          "text": [
            "Using TensorFlow backend.\n"
          ],
          "name": "stderr"
        },
        {
          "output_type": "stream",
          "text": [
            "Loading model...\n",
            "Loaded (300) images of size (480, 640, 3).\n",
            "Received output shape:(300, 240, 320, 1) converted:(300, 240, 320, 3)\n"
          ],
          "name": "stdout"
        }
      ]
    },
    {
      "cell_type": "code",
      "metadata": {
        "id": "6vJ3GmHoDbm5",
        "colab_type": "code",
        "outputId": "c366fba6-1d39-4e72-a46e-96bba91fcd7f",
        "colab": {
          "base_uri": "https://localhost:8080/",
          "height": 34
        }
      },
      "source": [
        "len(ZipFile(\"/content/depth_8k12k.zip\").namelist()), len(ZipFile(\"/content/drive/My Drive/EVA4/tsai/S15EVA4/depth_8k12k.zip\").namelist())\n"
      ],
      "execution_count": 0,
      "outputs": [
        {
          "output_type": "execute_result",
          "data": {
            "text/plain": [
              "(164000, 163700)"
            ]
          },
          "metadata": {
            "tags": []
          },
          "execution_count": 42
        }
      ]
    },
    {
      "cell_type": "code",
      "metadata": {
        "id": "-RXA_9XJ-vbH",
        "colab_type": "code",
        "outputId": "a6eb0167-e9ed-4ceb-9740-d3a85f961ac0",
        "colab": {
          "base_uri": "https://localhost:8080/",
          "height": 34
        }
      },
      "source": [
        "file_list = [ folder_name for folder_name in glob.glob(\"/content/test/*jpg\")]\n",
        "print(\"Total files:{}\".format(len(file_list)))\n",
        "from zipfile import ZipFile \n",
        "import os \n",
        "with ZipFile('/content/depth_8k12k.zip','a') as zip: \n",
        "    # writing each file one by one \n",
        "    for file in file_list: \n",
        "        zip.write(file,arcname=os.path.basename(file))\n",
        "zip.close()"
      ],
      "execution_count": 0,
      "outputs": [
        {
          "output_type": "stream",
          "text": [
            "Total files:300\n"
          ],
          "name": "stdout"
        }
      ]
    },
    {
      "cell_type": "code",
      "metadata": {
        "id": "Y9JMk3-Jxisz",
        "colab_type": "code",
        "colab": {}
      },
      "source": [
        "!cp /content/depth_8k12k.zip /content/drive/My\\ Drive/EVA4/tsai/S15EVA4"
      ],
      "execution_count": 0,
      "outputs": []
    },
    {
      "cell_type": "code",
      "metadata": {
        "id": "bf3hYZTBA-uH",
        "colab_type": "code",
        "colab": {}
      },
      "source": [
        "!cp "
      ],
      "execution_count": 0,
      "outputs": []
    },
    {
      "cell_type": "code",
      "metadata": {
        "id": "I8sbF6SJA90J",
        "colab_type": "code",
        "colab": {}
      },
      "source": [
        "!python test.py --model \"/content/nyu.h5\" --input \"/content/my_python_files_2k6k.zip\" --chunk_size 300"
      ],
      "execution_count": 0,
      "outputs": []
    },
    {
      "cell_type": "code",
      "metadata": {
        "id": "NfbmK8-YQiGs",
        "colab_type": "code",
        "outputId": "1f737849-8804-4f47-c0fe-eedcf018b1ca",
        "colab": {
          "base_uri": "https://localhost:8080/",
          "height": 134
        }
      },
      "source": [
        "%matplotlib inline\n",
        "!python test.py --model \"/content/drive/My Drive/EVA4/DenseDepth/nyu.h5\" "
      ],
      "execution_count": 0,
      "outputs": [
        {
          "output_type": "stream",
          "text": [
            "Using TensorFlow backend.\n",
            "Loading model...\n",
            "\n",
            "Model loaded (/content/drive/My Drive/EVA4/DenseDepth/nyu.h5).\n",
            "\n",
            "Loaded (12) images of size (480, 640, 3).\n",
            "<Figure size 1000x500 with 1 Axes>\n"
          ],
          "name": "stdout"
        }
      ]
    },
    {
      "cell_type": "code",
      "metadata": {
        "id": "9KZ3v6GyZFvo",
        "colab_type": "code",
        "colab": {}
      },
      "source": [
        "!rm -rf /content/content/"
      ],
      "execution_count": 0,
      "outputs": []
    },
    {
      "cell_type": "code",
      "metadata": {
        "id": "fkByEKkGREuA",
        "colab_type": "code",
        "outputId": "a0dd08f7-06ce-48ee-8399-ca7b037f6421",
        "colab": {
          "base_uri": "https://localhost:8080/",
          "height": 34
        }
      },
      "source": [
        "!ls -1 /content/content/S15EVA4/classroom/aug_images|wc -l"
      ],
      "execution_count": 0,
      "outputs": [
        {
          "output_type": "stream",
          "text": [
            "88\n"
          ],
          "name": "stdout"
        }
      ]
    },
    {
      "cell_type": "code",
      "metadata": {
        "id": "QV3Jkp61nMGQ",
        "colab_type": "code",
        "colab": {}
      },
      "source": [
        "zf = ZipFile('/content/zipfile_append.zip', mode='w')\n",
        "try:\n",
        "    zf.write('/content/sample_data/README.md')\n",
        "finally:\n",
        "    zf.close()"
      ],
      "execution_count": 0,
      "outputs": []
    },
    {
      "cell_type": "code",
      "metadata": {
        "id": "6oyLxPp4ag6l",
        "colab_type": "code",
        "colab": {}
      },
      "source": [
        "for image_file in glob.glob('/content/content/S15EVA4/classroom/aug_images/*jpg'):\n",
        "    print(image_file)\n",
        "    savedir = os.path.dirname(image_file)\n",
        "    new_file = os.path.join(savedir, \"res_\"+os.path.basename(image_file))\n",
        "    img = np.array(Image.open(image_file))\n",
        "    resized_img = get_resize_aug(480,640)(image=img)\n",
        "    Image.fromarray(resized_img['image']).save(new_file)\n"
      ],
      "execution_count": 0,
      "outputs": []
    },
    {
      "cell_type": "code",
      "metadata": {
        "id": "5XakW0eQRGr6",
        "colab_type": "code",
        "colab": {}
      },
      "source": [
        "import tensorflow as tf"
      ],
      "execution_count": 0,
      "outputs": []
    },
    {
      "cell_type": "code",
      "metadata": {
        "id": "awY8xnxkYMqR",
        "colab_type": "code",
        "outputId": "8269ae38-3eae-4bb1-e98d-8424f7217a69",
        "colab": {
          "base_uri": "https://localhost:8080/",
          "height": 34
        }
      },
      "source": [
        "tf.image.ResizeMethod.BILINEAR"
      ],
      "execution_count": 0,
      "outputs": [
        {
          "output_type": "execute_result",
          "data": {
            "text/plain": [
              "'bilinear'"
            ]
          },
          "metadata": {
            "tags": []
          },
          "execution_count": 25
        }
      ]
    },
    {
      "cell_type": "code",
      "metadata": {
        "id": "w_W8MbH-YEIw",
        "colab_type": "code",
        "colab": {}
      },
      "source": [
        "tf.image.resize(images, size, method='bilinear', preserve_aspect_ratio=False, antialias=False, name=None)"
      ],
      "execution_count": 0,
      "outputs": []
    },
    {
      "cell_type": "code",
      "metadata": {
        "id": "LBodihS8vsf9",
        "colab_type": "code",
        "colab": {}
      },
      "source": [
        "!rm -rf /content/test"
      ],
      "execution_count": 0,
      "outputs": []
    },
    {
      "cell_type": "code",
      "metadata": {
        "id": "V88vB-oIQMZK",
        "colab_type": "code",
        "colab": {}
      },
      "source": [
        ""
      ],
      "execution_count": 0,
      "outputs": []
    }
  ]
}